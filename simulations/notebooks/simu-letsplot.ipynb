{
 "cells": [
  {
   "cell_type": "code",
   "execution_count": 1,
   "metadata": {},
   "outputs": [
    {
     "data": {
      "text/html": [
       "   <div id=\"FngMbF\"></div>\n",
       "   <script type=\"text/javascript\" data-lets-plot-script=\"library\">\n",
       "       if(!window.letsPlotCallQueue) {\n",
       "           window.letsPlotCallQueue = [];\n",
       "       }; \n",
       "       window.letsPlotCall = function(f) {\n",
       "           window.letsPlotCallQueue.push(f);\n",
       "       };\n",
       "       (function() {\n",
       "           var script = document.createElement(\"script\");\n",
       "           script.type = \"text/javascript\";\n",
       "           script.src = \"https://dl.bintray.com/jetbrains/lets-plot/lets-plot-1.5.4.min.js\";\n",
       "           script.onload = function() {\n",
       "               window.letsPlotCall = function(f) {f();};\n",
       "               window.letsPlotCallQueue.forEach(function(f) {f();});\n",
       "               window.letsPlotCallQueue = [];\n",
       "               \n",
       "               \n",
       "           };\n",
       "           script.onerror = function(event) {\n",
       "               window.letsPlotCall = function(f) {};\n",
       "               window.letsPlotCallQueue = [];\n",
       "               var div = document.createElement(\"div\");\n",
       "               div.style.color = 'darkred';\n",
       "               div.textContent = 'Error loading Lets-Plot JS';\n",
       "               document.getElementById(\"FngMbF\").appendChild(div);\n",
       "           };\n",
       "           var e = document.getElementById(\"FngMbF\");\n",
       "           e.appendChild(script);\n",
       "       })();\n",
       "   </script>"
      ]
     },
     "metadata": {},
     "output_type": "display_data"
    }
   ],
   "source": [
    "%use krangl(0.15.2)"
   ]
  },
  {
   "cell_type": "code",
   "execution_count": 2,
   "metadata": {},
   "outputs": [
    {
     "name": "stdout",
     "output_type": "stream",
     "text": [
      "C:\\Users\\brandl\r\n",
      "clearing ivy cache\r\n"
     ]
    }
   ],
   "source": [
    "val userHome = System.getProperty(\"user.home\")\n",
    "\n",
    "println(userHome)\n",
    "\n",
    "if(userHome.contains(\"brandl\")){\n",
    "    println(\"clearing ivy cache\")\n",
    "    java.io.File(\"$userHome/.ivy2/cache/org.kalasim/\").deleteRecursively()\n",
    "}\n"
   ]
  },
  {
   "cell_type": "code",
   "execution_count": 3,
   "metadata": {},
   "outputs": [],
   "source": [
    "@file:DependsOn(\"org.kalasim:kalasim:0.6\")"
   ]
  },
  {
   "cell_type": "code",
   "execution_count": 10,
   "metadata": {},
   "outputs": [],
   "source": [
    "// @file:Repository(\"*mavenLocal\")\n",
    "// @file:DependsOn(\"org.kalasim:kalasim:0.6-SNAPSHOT\")\n",
    "// :classpath"
   ]
  },
  {
   "cell_type": "code",
   "execution_count": 11,
   "metadata": {},
   "outputs": [],
   "source": [
    "import jetbrains.letsPlot.geom.geom_boxplot\n",
    "import jetbrains.letsPlot.geom.geom_density\n",
    "import jetbrains.letsPlot.geom.geom_point\n",
    "import jetbrains.letsPlot.ggsize\n",
    "import jetbrains.letsPlot.intern.Plot\n",
    "import jetbrains.letsPlot.lets_plot\n",
    "import krangl.irisData\n",
    "import krangl.toMap\n",
    "import org.kalasim.demo.MM1Queue\n",
    "import org.kalasim.plot.letsplot.display\n",
    "import org.kalasim.InteractionEvent\n",
    "\n"
   ]
  },
  {
   "cell_type": "code",
   "execution_count": 5,
   "metadata": {},
   "outputs": [
    {
     "name": "stdout",
     "output_type": "stream",
     "text": [
      "rho is 0.75. With rho>1 the system would be unstable, because there are more arrivals then the server can serve.\r\n"
     ]
    }
   ],
   "source": [
    "val mm1 = MM1Queue().apply {\n",
    "    run(100)\n",
    "}"
   ]
  },
  {
   "cell_type": "code",
   "execution_count": 12,
   "metadata": {},
   "outputs": [
    {
     "data": {
      "text/html": [
       "<html><body><table><tr><th style=\"text-align:left\">action</th><th style=\"text-align:left\">curComponent</th><th style=\"text-align:left\">details</th><th style=\"text-align:left\">source</th><th style=\"text-align:left\">logLevel</th><th style=\"text-align:left\">time</th></tr><tr><td style=\"text-align:left\" title=\"Created\">Created</td><td style=\"text-align:left\" title=\"main\">main</td><td style=\"text-align:left\" title=\"capacity=1 \">capacity=1 </td><td style=\"text-align:left\" title=\"server\">server</td><td style=\"text-align:left\" title=\"INFO\">INFO</td><td style=\"text-align:left\" title=\"0.0\">0.0</td></tr><tr><td style=\"text-align:left\" title=\"create\">create</td><td style=\"text-align:left\" title=\"main\">main</td><td style=\"text-align:left\" title=\"\"></td><td style=\"text-align:left\" title=\"ComponentGenerator.1\">ComponentGenerator.1</td><td style=\"text-align:left\" title=\"INFO\">INFO</td><td style=\"text-align:left\" title=\"0.0\">0.0</td></tr><tr><td style=\"text-align:left\" title=\"activate\">activate</td><td style=\"text-align:left\" title=\"main\">main</td><td style=\"text-align:left\" title=\"scheduled for .00\">scheduled for .00</td><td style=\"text-align:left\" title=\"ComponentGenerator.1\">ComponentGenerator.1</td><td style=\"text-align:left\" title=\"INFO\">INFO</td><td style=\"text-align:left\" title=\"0.0\">0.0</td></tr><tr><td style=\"text-align:left\" title=\"run +100.00\">run +100.00</td><td style=\"text-align:left\" title=\"main\">main</td><td style=\"text-align:left\" title=\"scheduled for 100.00\">scheduled for 100.00</td><td style=\"text-align:left\" title=\"main\">main</td><td style=\"text-align:left\" title=\"INFO\">INFO</td><td style=\"text-align:left\" title=\"0.0\">0.0</td></tr><tr><td style=\"text-align:left\" title=\"hold +.68\">hold +.68</td><td style=\"text-align:left\" title=\"ComponentGenerator.1\">ComponentGenerator.1</td><td style=\"text-align:left\" title=\"scheduled for .68\">scheduled for .68</td><td style=\"text-align:left\" title=\"ComponentGenerator.1\">ComponentGenerator.1</td><td style=\"text-align:left\" title=\"INFO\">INFO</td><td style=\"text-align:left\" title=\"0.0\">0.0</td></tr><tr><td style=\"text-align:left\" title=\"create\">create</td><td style=\"text-align:left\" title=\"ComponentGenerator.1\">ComponentGenerator.1</td><td style=\"text-align:left\" title=\"\"></td><td style=\"text-align:left\" title=\"Customer.1\">Customer.1</td><td style=\"text-align:left\" title=\"INFO\">INFO</td><td style=\"text-align:left\" title=\"0.6826910400986043\">0.6826910400986043</td></tr><tr><td style=\"text-align:left\" title=\"activate\">activate</td><td style=\"text-align:left\" title=\"ComponentGenerator.1\">ComponentGenerator.1</td><td style=\"text-align:left\" title=\"scheduled for .68\">scheduled for .68</td><td style=\"text-align:left\" title=\"Customer.1\">Customer.1</td><td style=\"text-align:left\" title=\"INFO\">INFO</td><td style=\"text-align:left\" title=\"0.6826910400986043\">0.6826910400986043</td></tr><tr><td style=\"text-align:left\" title=\"hold +.55\">hold +.55</td><td style=\"text-align:left\" title=\"ComponentGenerator.1\">ComponentGenerator.1</td><td style=\"text-align:left\" title=\"scheduled for 1.23\">scheduled for 1.23</td><td style=\"text-align:left\" title=\"ComponentGenerator.1\">ComponentGenerator.1</td><td style=\"text-align:left\" title=\"INFO\">INFO</td><td style=\"text-align:left\" title=\"0.6826910400986043\">0.6826910400986043</td></tr><tr><td style=\"text-align:left\" title=\"Requesting 1.0 from server with priority null and oneof=false\">Requesting 1.0 from server with priority null a...</td><td style=\"text-align:left\" title=\"Customer.1\">Customer.1</td><td style=\"text-align:left\" title=\"null\">null</td><td style=\"text-align:left\" title=\"Customer.1\">Customer.1</td><td style=\"text-align:left\" title=\"INFO\">INFO</td><td style=\"text-align:left\" title=\"0.6826910400986043\">0.6826910400986043</td></tr><tr><td style=\"text-align:left\" title=\"null\">null</td><td style=\"text-align:left\" title=\"Customer.1\">Customer.1</td><td style=\"text-align:left\" title=\"null\">null</td><td style=\"text-align:left\" title=\"Customer.1\">Customer.1</td><td style=\"text-align:left\" title=\"INFO\">INFO</td><td style=\"text-align:left\" title=\"0.6826910400986043\">0.6826910400986043</td></tr><tr><td style=\"text-align:left\" title=\"Request honored by server\">Request honored by server</td><td style=\"text-align:left\" title=\"Customer.1\">Customer.1</td><td style=\"text-align:left\" title=\"scheduled for .68\">scheduled for .68</td><td style=\"text-align:left\" title=\"Customer.1\">Customer.1</td><td style=\"text-align:left\" title=\"INFO\">INFO</td><td style=\"text-align:left\" title=\"0.6826910400986043\">0.6826910400986043</td></tr><tr><td style=\"text-align:left\" title=\"hold +1.86\">hold +1.86</td><td style=\"text-align:left\" title=\"Customer.1\">Customer.1</td><td style=\"text-align:left\" title=\"scheduled for 2.54\">scheduled for 2.54</td><td style=\"text-align:left\" title=\"Customer.1\">Customer.1</td><td style=\"text-align:left\" title=\"INFO\">INFO</td><td style=\"text-align:left\" title=\"0.6826910400986043\">0.6826910400986043</td></tr><tr><td style=\"text-align:left\" title=\"create\">create</td><td style=\"text-align:left\" title=\"ComponentGenerator.1\">ComponentGenerator.1</td><td style=\"text-align:left\" title=\"\"></td><td style=\"text-align:left\" title=\"Customer.2\">Customer.2</td><td style=\"text-align:left\" title=\"INFO\">INFO</td><td style=\"text-align:left\" title=\"1.2323614553781406\">1.2323614553781406</td></tr><tr><td style=\"text-align:left\" title=\"activate\">activate</td><td style=\"text-align:left\" title=\"ComponentGenerator.1\">ComponentGenerator.1</td><td style=\"text-align:left\" title=\"scheduled for 1.23\">scheduled for 1.23</td><td style=\"text-align:left\" title=\"Customer.2\">Customer.2</td><td style=\"text-align:left\" title=\"INFO\">INFO</td><td style=\"text-align:left\" title=\"1.2323614553781406\">1.2323614553781406</td></tr><tr><td style=\"text-align:left\" title=\"hold +1.20\">hold +1.20</td><td style=\"text-align:left\" title=\"ComponentGenerator.1\">ComponentGenerator.1</td><td style=\"text-align:left\" title=\"scheduled for 2.43\">scheduled for 2.43</td><td style=\"text-align:left\" title=\"ComponentGenerator.1\">ComponentGenerator.1</td><td style=\"text-align:left\" title=\"INFO\">INFO</td><td style=\"text-align:left\" title=\"1.2323614553781406\">1.2323614553781406</td></tr><tr><td style=\"text-align:left\" title=\"Requesting 1.0 from server with priority null and oneof=false\">Requesting 1.0 from server with priority null a...</td><td style=\"text-align:left\" title=\"Customer.2\">Customer.2</td><td style=\"text-align:left\" title=\"null\">null</td><td style=\"text-align:left\" title=\"Customer.2\">Customer.2</td><td style=\"text-align:left\" title=\"INFO\">INFO</td><td style=\"text-align:left\" title=\"1.2323614553781406\">1.2323614553781406</td></tr><tr><td style=\"text-align:left\" title=\"request\">request</td><td style=\"text-align:left\" title=\"Customer.2\">Customer.2</td><td style=\"text-align:left\" title=\"scheduled for <inf>\">scheduled for <inf></td><td style=\"text-align:left\" title=\"Customer.2\">Customer.2</td><td style=\"text-align:left\" title=\"INFO\">INFO</td><td style=\"text-align:left\" title=\"1.2323614553781406\">1.2323614553781406</td></tr><tr><td style=\"text-align:left\" title=\"create\">create</td><td style=\"text-align:left\" title=\"ComponentGenerator.1\">ComponentGenerator.1</td><td style=\"text-align:left\" title=\"\"></td><td style=\"text-align:left\" title=\"Customer.3\">Customer.3</td><td style=\"text-align:left\" title=\"INFO\">INFO</td><td style=\"text-align:left\" title=\"2.4345531666628784\">2.4345531666628784</td></tr><tr><td style=\"text-align:left\" title=\"activate\">activate</td><td style=\"text-align:left\" title=\"ComponentGenerator.1\">ComponentGenerator.1</td><td style=\"text-align:left\" title=\"scheduled for 2.43\">scheduled for 2.43</td><td style=\"text-align:left\" title=\"Customer.3\">Customer.3</td><td style=\"text-align:left\" title=\"INFO\">INFO</td><td style=\"text-align:left\" title=\"2.4345531666628784\">2.4345531666628784</td></tr><tr><td style=\"text-align:left\" title=\"hold +.50\">hold +.50</td><td style=\"text-align:left\" title=\"ComponentGenerator.1\">ComponentGenerator.1</td><td style=\"text-align:left\" title=\"scheduled for 2.93\">scheduled for 2.93</td><td style=\"text-align:left\" title=\"ComponentGenerator.1\">ComponentGenerator.1</td><td style=\"text-align:left\" title=\"INFO\">INFO</td><td style=\"text-align:left\" title=\"2.4345531666628784\">2.4345531666628784</td></tr></table><p>... only showing top 20 rows</p></body></html>"
      ]
     },
     "execution_count": 12,
     "metadata": {
      "new_classpath": []
     },
     "output_type": "execute_result"
    }
   ],
   "source": [
    " mm1.traces.filterIsInstance<InteractionEvent>().asDataFrame()"
   ]
  },
  {
   "cell_type": "code",
   "execution_count": 7,
   "metadata": {},
   "outputs": [
    {
     "data": {
      "text/html": [
       "   <div id=\"Cr1ohN\"></div>\n",
       "   <script type=\"text/javascript\" data-lets-plot-script=\"plot\">\n",
       "       (function() {\n",
       "           var plotSpec={\n",
       "'ggtitle':{\n",
       "'text':\"Claimed quantity of server\"\n",
       "},\n",
       "'mapping':{\n",
       "},\n",
       "'data':{\n",
       "'first':[0.0,0.6826910400986043,2.538741043879773,2.538741043879773,2.921009037636501,2.921009037636501,5.39263572000375,5.39263572000375,5.770035363562487,5.770035363562487,9.898905187663582,9.898905187663582,10.248614714808763,10.248614714808763,11.253736341878604,11.253736341878604,16.809681071259337,16.809681071259337,17.692257817990225,17.692257817990225,19.960591182039195,19.960591182039195,21.556259735553475,21.556259735553475,25.197223511791933,25.197223511791933,25.48370473391184,25.48370473391184,26.337958290721016,26.337958290721016,28.71912750055294,28.71912750055294,29.259571558378493,29.259571558378493,32.05228545339852,32.05228545339852,32.585469297546624,32.585469297546624,33.4156337053705,33.4156337053705,34.5161164890792,34.5161164890792,36.132989270189235,36.132989270189235,36.6512362080732,36.6512362080732,38.69612479627108,38.69612479627108,42.20246932463722,42.20246932463722,47.33565055012347,47.33565055012347,47.35513605198542,47.35513605198542,48.59351255122567,48.59351255122567,48.927359145590145,48.927359145590145,49.68034342298021,49.68034342298021,50.1862440837961,50.1862440837961,52.63318637436947,52.63318637436947,52.99389133805439,52.99389133805439,53.5449934694801,53.5449934694801,54.831975701294816,54.831975701294816,56.71937473477769,56.71937473477769,57.62368755454132,57.62368755454132,60.018680219134616,60.018680219134616,61.31164388143517,61.31164388143517,64.52762049297317,64.52762049297317,72.98803408568084,72.98803408568084,73.3996119640671,73.3996119640671,76.83087525464965,76.83087525464965,77.53644017404447,77.53644017404447,77.5578166059273,77.5578166059273,79.21949304389602,79.21949304389602,79.41616948995343,79.41616948995343,80.32631550366978,80.32631550366978,80.84316151662367,80.84316151662367,86.10151295419567,86.10151295419567,87.98528823149806,87.98528823149806,88.08821849300757,88.08821849300757,91.69302324389163,91.69302324389163,93.5088133487983,93.5088133487983,96.81987933131587,96.81987933131587,99.52144977133241,99.52144977133241,100.0],\n",
       "'second':[0.0,1.0,0.0,1.0,0.0,1.0,0.0,1.0,0.0,1.0,0.0,1.0,0.0,1.0,0.0,1.0,0.0,1.0,0.0,1.0,0.0,1.0,0.0,1.0,0.0,1.0,0.0,1.0,0.0,1.0,0.0,1.0,0.0,1.0,0.0,1.0,0.0,1.0,0.0,1.0,0.0,1.0,0.0,1.0,0.0,1.0,0.0,1.0,0.0,1.0,0.0,1.0,0.0,1.0,0.0,1.0,0.0,1.0,0.0,1.0,0.0,1.0,0.0,1.0,0.0,1.0,0.0,1.0,0.0,1.0,0.0,1.0,0.0,1.0,0.0,1.0,0.0,1.0,0.0,1.0,0.0,1.0,0.0,1.0,0.0,1.0,0.0,1.0,0.0,1.0,0.0,1.0,0.0,1.0,0.0,1.0,0.0,1.0,0.0,1.0,0.0,1.0,0.0,1.0,0.0,1.0,0.0,1.0,0.0,1.0,0.0,1.0,1.0]\n",
       "},\n",
       "'kind':\"plot\",\n",
       "'scales':[],\n",
       "'layers':[{\n",
       "'mapping':{\n",
       "'x':\"first\",\n",
       "'y':\"second\"\n",
       "},\n",
       "'stat':\"identity\",\n",
       "'data':{\n",
       "},\n",
       "'position':\"identity\",\n",
       "'geom':\"step\"\n",
       "}]\n",
       "};\n",
       "           var plotContainer = document.getElementById(\"Cr1ohN\");\n",
       "           window.letsPlotCall(function() {{\n",
       "               LetsPlot.buildPlotFromProcessedSpecs(plotSpec, -1, -1, plotContainer);\n",
       "           }});\n",
       "       })();    \n",
       "   </script>"
      ]
     },
     "execution_count": 7,
     "metadata": {
      "new_classpath": []
     },
     "output_type": "execute_result"
    }
   ],
   "source": [
    "mm1.server.claimedMonitor.display()\n"
   ]
  },
  {
   "cell_type": "code",
   "execution_count": 8,
   "metadata": {},
   "outputs": [
    {
     "data": {
      "text/html": [
       "   <div id=\"6ZljMm\"></div>\n",
       "   <script type=\"text/javascript\" data-lets-plot-script=\"plot\">\n",
       "       (function() {\n",
       "           var plotSpec={\n",
       "'ggtitle':{\n",
       "'text':\"Length of stay in requesters of server\"\n",
       "},\n",
       "'mapping':{\n",
       "},\n",
       "'data':{\n",
       "},\n",
       "'kind':\"plot\",\n",
       "'scales':[],\n",
       "'layers':[{\n",
       "'mapping':{\n",
       "'x':\"values\"\n",
       "},\n",
       "'stat':\"bin\",\n",
       "'data':{\n",
       "'..count..':[1.0,4.0,3.0,0.0,0.0,2.0,2.0,4.0,5.0,6.0,0.0,5.0,2.0,2.0,2.0,4.0,1.0,6.0,0.0,0.0,1.0,2.0,0.0,1.0,1.0,0.0,0.0,1.0,0.0,1.0],\n",
       "'values':[-0.2238543183060303,1.1023769259976213,2.428608170301273,3.7548394146049247,5.081070658908576,6.407301903212228,7.733533147515879,9.059764391819533,10.385995636123184,11.712226880426835,13.038458124730488,14.364689369034139,15.69092061333779,17.01715185764144,18.343383101945093,19.669614346248743,20.995845590552396,22.32207683485605,23.648308079159698,24.97453932346335,26.300770567767003,27.627001812070652,28.953233056374305,30.279464300677958,31.605695544981607,32.931926789285264,34.25815803358891,35.58438927789256,36.91062052219622,38.23685176649987]\n",
       "},\n",
       "'position':\"stack\",\n",
       "'geom':\"histogram\"\n",
       "}]\n",
       "};\n",
       "           var plotContainer = document.getElementById(\"6ZljMm\");\n",
       "           window.letsPlotCall(function() {{\n",
       "               LetsPlot.buildPlotFromProcessedSpecs(plotSpec, -1, -1, plotContainer);\n",
       "           }});\n",
       "       })();    \n",
       "   </script>"
      ]
     },
     "execution_count": 8,
     "metadata": {
      "new_classpath": []
     },
     "output_type": "execute_result"
    }
   ],
   "source": [
    "mm1.server.requesters.lengthOfStayMonitor.display()"
   ]
  }
 ],
 "metadata": {
  "kernelspec": {
   "display_name": "Kotlin",
   "language": "kotlin",
   "name": "kotlin"
  },
  "language_info": {
   "codemirror_mode": "text/x-kotlin",
   "file_extension": ".kt",
   "mimetype": "text/x-kotlin",
   "name": "kotlin",
   "pygments_lexer": "kotlin",
   "version": "1.4.30-dev-3354"
  }
 },
 "nbformat": 4,
 "nbformat_minor": 4
}