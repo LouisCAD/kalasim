{
 "cells": [
  {
   "cell_type": "code",
   "execution_count": 1,
   "metadata": {},
   "outputs": [
    {
     "name": "stdout",
     "output_type": "stream",
     "text": [
      "C:\\Users\\brandl\r\n",
      "clearing ivy cache\r\n"
     ]
    }
   ],
   "source": [
    "val userHome = System.getProperty(\"user.home\")\n",
    "\n",
    "println(userHome)\n",
    "\n",
    "if(userHome.contains(\"brandl\")){\n",
    "    println(\"clearing ivy cache\")\n",
    "    java.io.File(\"$userHome/.ivy2/cache/org.kalasim/\").deleteRecursively()\n",
    "}\n"
   ]
  },
  {
   "cell_type": "code",
   "execution_count": 2,
   "metadata": {},
   "outputs": [],
   "source": [
    "@file:Repository(\"*mavenLocal\")\n",
    "@file:DependsOn(\"com.github.holgerbrandl:kalasim:0.6.97-SNAPSHOT\")"
   ]
  },
  {
   "cell_type": "code",
   "execution_count": 3,
   "metadata": {},
   "outputs": [],
   "source": [
    "import org.kalasim.*"
   ]
  },
  {
   "cell_type": "code",
   "execution_count": 4,
   "metadata": {
    "pycharm": {
     "name": "#%%\n"
    }
   },
   "outputs": [],
   "source": [
    "//:classpath"
   ]
  },
  {
   "cell_type": "code",
   "execution_count": 5,
   "metadata": {
    "pycharm": {
     "name": "#%%\n"
    }
   },
   "outputs": [
    {
     "data": {
      "text/html": "   <div id=\"uAetAv\"></div>\n   <script type=\"text/javascript\" data-lets-plot-script=\"library\">\n       if(!window.letsPlotCallQueue) {\n           window.letsPlotCallQueue = [];\n       }; \n       window.letsPlotCall = function(f) {\n           window.letsPlotCallQueue.push(f);\n       };\n       (function() {\n           var script = document.createElement(\"script\");\n           script.type = \"text/javascript\";\n           script.src = \"https://cdn.jsdelivr.net/gh/JetBrains/lets-plot@v2.1.0/js-package/distr/lets-plot.min.js\";\n           script.onload = function() {\n               window.letsPlotCall = function(f) {f();};\n               window.letsPlotCallQueue.forEach(function(f) {f();});\n               window.letsPlotCallQueue = [];\n               \n               \n           };\n           script.onerror = function(event) {\n               window.letsPlotCall = function(f) {};\n               window.letsPlotCallQueue = [];\n               var div = document.createElement(\"div\");\n               div.style.color = 'darkred';\n               div.textContent = 'Error loading Lets-Plot JS';\n               document.getElementById(\"uAetAv\").appendChild(div);\n           };\n           var e = document.getElementById(\"uAetAv\");\n           e.appendChild(script);\n       })();\n   </script>"
     },
     "metadata": {},
     "output_type": "display_data"
    }
   ],
   "source": [
    "%use lets-plot"
   ]
  },
  {
   "cell_type": "code",
   "execution_count": 6,
   "metadata": {
    "pycharm": {
     "name": "#%%\n"
    }
   },
   "outputs": [],
   "source": [
    "import jetbrains.letsPlot.ggsize\n",
    "import jetbrains.letsPlot.intern.Plot\n",
    "import jetbrains.letsPlot.lets_plot\n",
    "import krangl.irisData\n",
    "import krangl.toMap\n",
    "import org.kalasim.examples.MM1Queue\n",
    "import org.kalasim.plot.letsplot.display\n",
    "import org.kalasim.plot.letsplot.displayStateTimeline\n",
    "import org.kalasim.InteractionEvent\n",
    "import java.time.Instant\n",
    "import java.util.concurrent.TimeUnit\n"
   ]
  },
  {
   "cell_type": "code",
   "execution_count": 7,
   "metadata": {},
   "outputs": [
    {
     "name": "stdout",
     "output_type": "stream",
     "text": [
      "rho is 0.75. With rho>1 the system would be unstable, because there are more arrivals then the server can serve.\r\n"
     ]
    }
   ],
   "source": [
    "val mm1 = MM1Queue().apply {\n",
    "    run(100)\n",
    "}"
   ]
  },
  {
   "cell_type": "code",
   "execution_count": 8,
   "metadata": {},
   "outputs": [
    {
     "data": {
      "text/html": "<html><body><table><tr><th style=\"text-align:left\">action</th><th style=\"text-align:left\">curComponent</th><th style=\"text-align:left\">details</th><th style=\"text-align:left\">source</th><th style=\"text-align:left\">logLevel</th><th style=\"text-align:left\">time</th></tr><tr><td style=\"text-align:left\" title=\"Created\">Created</td><td style=\"text-align:left\" title=\"main\">main</td><td style=\"text-align:left\" title=\"capacity=1 \">capacity=1 </td><td style=\"text-align:left\" title=\"server\">server</td><td style=\"text-align:left\" title=\"INFO\">INFO</td><td style=\"text-align:left\" title=\".00\">.00</td></tr><tr><td style=\"text-align:left\" title=\"create\">create</td><td style=\"text-align:left\" title=\"main\">main</td><td style=\"text-align:left\" title=\"\"></td><td style=\"text-align:left\" title=\"ComponentGenerator.1\">ComponentGenerator.1</td><td style=\"text-align:left\" title=\"INFO\">INFO</td><td style=\"text-align:left\" title=\".00\">.00</td></tr><tr><td style=\"text-align:left\" title=\"activate\">activate</td><td style=\"text-align:left\" title=\"main\">main</td><td style=\"text-align:left\" title=\"scheduled for .00\">scheduled for .00</td><td style=\"text-align:left\" title=\"ComponentGenerator.1\">ComponentGenerator.1</td><td style=\"text-align:left\" title=\"INFO\">INFO</td><td style=\"text-align:left\" title=\".00\">.00</td></tr><tr><td style=\"text-align:left\" title=\"run +100.00\">run +100.00</td><td style=\"text-align:left\" title=\"main\">main</td><td style=\"text-align:left\" title=\"scheduled for 100.00\">scheduled for 100.00</td><td style=\"text-align:left\" title=\"main\">main</td><td style=\"text-align:left\" title=\"INFO\">INFO</td><td style=\"text-align:left\" title=\".00\">.00</td></tr><tr><td style=\"text-align:left\" title=\"hold +.68\">hold +.68</td><td style=\"text-align:left\" title=\"ComponentGenerator.1\">ComponentGenerator.1</td><td style=\"text-align:left\" title=\"scheduled for .68\">scheduled for .68</td><td style=\"text-align:left\" title=\"ComponentGenerator.1\">ComponentGenerator.1</td><td style=\"text-align:left\" title=\"INFO\">INFO</td><td style=\"text-align:left\" title=\".00\">.00</td></tr><tr><td style=\"text-align:left\" title=\"create\">create</td><td style=\"text-align:left\" title=\"ComponentGenerator.1\">ComponentGenerator.1</td><td style=\"text-align:left\" title=\"\"></td><td style=\"text-align:left\" title=\"Customer.1\">Customer.1</td><td style=\"text-align:left\" title=\"INFO\">INFO</td><td style=\"text-align:left\" title=\".68\">.68</td></tr><tr><td style=\"text-align:left\" title=\"activate\">activate</td><td style=\"text-align:left\" title=\"ComponentGenerator.1\">ComponentGenerator.1</td><td style=\"text-align:left\" title=\"scheduled for .68\">scheduled for .68</td><td style=\"text-align:left\" title=\"Customer.1\">Customer.1</td><td style=\"text-align:left\" title=\"INFO\">INFO</td><td style=\"text-align:left\" title=\".68\">.68</td></tr><tr><td style=\"text-align:left\" title=\"hold +.55\">hold +.55</td><td style=\"text-align:left\" title=\"ComponentGenerator.1\">ComponentGenerator.1</td><td style=\"text-align:left\" title=\"scheduled for 1.23\">scheduled for 1.23</td><td style=\"text-align:left\" title=\"ComponentGenerator.1\">ComponentGenerator.1</td><td style=\"text-align:left\" title=\"INFO\">INFO</td><td style=\"text-align:left\" title=\".68\">.68</td></tr><tr><td style=\"text-align:left\" title=\"Requesting 1.0 from server with priority null and oneof=false\">Requesting 1.0 from server with priority null a...</td><td style=\"text-align:left\" title=\"Customer.1\">Customer.1</td><td style=\"text-align:left\" title=\"null\">null</td><td style=\"text-align:left\" title=\"Customer.1\">Customer.1</td><td style=\"text-align:left\" title=\"INFO\">INFO</td><td style=\"text-align:left\" title=\".68\">.68</td></tr><tr><td style=\"text-align:left\" title=\"null\">null</td><td style=\"text-align:left\" title=\"Customer.1\">Customer.1</td><td style=\"text-align:left\" title=\"null\">null</td><td style=\"text-align:left\" title=\"Customer.1\">Customer.1</td><td style=\"text-align:left\" title=\"INFO\">INFO</td><td style=\"text-align:left\" title=\".68\">.68</td></tr></table><p>... with 732 more rows. Shape: 742 x 6. \n</p></body></html>"
     },
     "execution_count": 8,
     "metadata": {},
     "output_type": "execute_result"
    }
   ],
   "source": [
    " mm1.traces.filterIsInstance<InteractionEvent>().asDataFrame()"
   ]
  },
  {
   "cell_type": "code",
   "execution_count": 9,
   "metadata": {},
   "outputs": [
    {
     "data": {
      "text/html": "   <div id=\"2PmI7q\"></div>\n   <script type=\"text/javascript\" data-lets-plot-script=\"plot\">\n       (function() {\n           var plotSpec={\n\"ggtitle\":{\n\"text\":\"Claimed quantity of server\"\n},\n\"mapping\":{\n},\n\"data\":{\n\"first\":[0.0,0.6826910400986043,2.538741043879773,2.538741043879773,2.921009037636501,2.921009037636501,5.39263572000375,5.39263572000375,5.770035363562487,5.770035363562487,9.898905187663582,9.898905187663582,10.248614714808763,10.248614714808763,11.253736341878604,11.253736341878604,16.809681071259337,16.809681071259337,17.692257817990225,17.692257817990225,19.960591182039195,19.960591182039195,21.556259735553475,21.556259735553475,25.197223511791933,25.197223511791933,25.48370473391184,25.48370473391184,26.337958290721016,26.337958290721016,28.71912750055294,28.71912750055294,29.259571558378493,29.259571558378493,32.05228545339852,32.05228545339852,32.585469297546624,32.585469297546624,33.4156337053705,33.4156337053705,34.5161164890792,34.5161164890792,36.132989270189235,36.132989270189235,36.6512362080732,36.6512362080732,38.69612479627108,38.69612479627108,42.20246932463722,42.20246932463722,47.33565055012347,47.33565055012347,47.35513605198542,47.35513605198542,48.59351255122567,48.59351255122567,48.927359145590145,48.927359145590145,49.68034342298021,49.68034342298021,50.1862440837961,50.1862440837961,52.63318637436947,52.63318637436947,52.99389133805439,52.99389133805439,53.5449934694801,53.5449934694801,54.831975701294816,54.831975701294816,56.71937473477769,56.71937473477769,57.62368755454132,57.62368755454132,60.018680219134616,60.018680219134616,61.31164388143517,61.31164388143517,64.52762049297317,64.52762049297317,72.98803408568084,72.98803408568084,73.3996119640671,73.3996119640671,76.83087525464965,76.83087525464965,77.53644017404447,77.53644017404447,77.5578166059273,77.5578166059273,79.21949304389602,79.21949304389602,79.41616948995343,79.41616948995343,80.32631550366978,80.32631550366978,80.84316151662367,80.84316151662367,86.10151295419567,86.10151295419567,87.98528823149806,87.98528823149806,88.08821849300757,88.08821849300757,91.69302324389163,91.69302324389163,93.5088133487983,93.5088133487983,96.81987933131587,96.81987933131587,99.52144977133241,99.52144977133241,100.0],\n\"second\":[0.0,1.0,0.0,1.0,0.0,1.0,0.0,1.0,0.0,1.0,0.0,1.0,0.0,1.0,0.0,1.0,0.0,1.0,0.0,1.0,0.0,1.0,0.0,1.0,0.0,1.0,0.0,1.0,0.0,1.0,0.0,1.0,0.0,1.0,0.0,1.0,0.0,1.0,0.0,1.0,0.0,1.0,0.0,1.0,0.0,1.0,0.0,1.0,0.0,1.0,0.0,1.0,0.0,1.0,0.0,1.0,0.0,1.0,0.0,1.0,0.0,1.0,0.0,1.0,0.0,1.0,0.0,1.0,0.0,1.0,0.0,1.0,0.0,1.0,0.0,1.0,0.0,1.0,0.0,1.0,0.0,1.0,0.0,1.0,0.0,1.0,0.0,1.0,0.0,1.0,0.0,1.0,0.0,1.0,0.0,1.0,0.0,1.0,0.0,1.0,0.0,1.0,0.0,1.0,0.0,1.0,0.0,1.0,0.0,1.0,0.0,1.0,1.0]\n},\n\"kind\":\"plot\",\n\"scales\":[],\n\"layers\":[{\n\"mapping\":{\n\"x\":\"first\",\n\"y\":\"second\"\n},\n\"stat\":\"identity\",\n\"position\":\"identity\",\n\"geom\":\"step\",\n\"data\":{\n}\n}]\n};\n           var plotContainer = document.getElementById(\"2PmI7q\");\n           window.letsPlotCall(function() {{\n               LetsPlot.buildPlotFromProcessedSpecs(plotSpec, -1, -1, plotContainer);\n           }});\n       })();    \n   </script>"
     },
     "execution_count": 9,
     "metadata": {},
     "output_type": "execute_result"
    }
   ],
   "source": [
    "mm1.server.claimedTimeline.display()"
   ]
  },
  {
   "cell_type": "code",
   "execution_count": 10,
   "metadata": {},
   "outputs": [
    {
     "data": {
      "text/html": "   <div id=\"SzHGA3\"></div>\n   <script type=\"text/javascript\" data-lets-plot-script=\"plot\">\n       (function() {\n           var plotSpec={\n\"ggtitle\":{\n\"text\":\"Length of stay in requesters of server\"\n},\n\"mapping\":{\n},\n\"data\":{\n},\n\"kind\":\"plot\",\n\"scales\":[],\n\"layers\":[{\n\"mapping\":{\n\"x\":\"values\"\n},\n\"stat\":\"bin\",\n\"position\":\"stack\",\n\"geom\":\"histogram\",\n\"data\":{\n\"..count..\":[1.0,4.0,3.0,0.0,0.0,2.0,2.0,4.0,5.0,6.0,0.0,5.0,2.0,2.0,2.0,4.0,1.0,6.0,0.0,0.0,1.0,2.0,0.0,1.0,1.0,0.0,0.0,1.0,0.0,1.0],\n\"values\":[-0.2238543183060303,1.1023769259976213,2.428608170301273,3.7548394146049247,5.081070658908576,6.407301903212228,7.733533147515879,9.059764391819533,10.385995636123184,11.712226880426835,13.038458124730488,14.364689369034139,15.69092061333779,17.01715185764144,18.343383101945093,19.669614346248743,20.995845590552396,22.32207683485605,23.648308079159698,24.97453932346335,26.300770567767003,27.627001812070652,28.953233056374305,30.279464300677958,31.605695544981607,32.931926789285264,34.25815803358891,35.58438927789256,36.91062052219622,38.23685176649987]\n}\n}]\n};\n           var plotContainer = document.getElementById(\"SzHGA3\");\n           window.letsPlotCall(function() {{\n               LetsPlot.buildPlotFromProcessedSpecs(plotSpec, -1, -1, plotContainer);\n           }});\n       })();    \n   </script>"
     },
     "execution_count": 10,
     "metadata": {},
     "output_type": "execute_result"
    }
   ],
   "source": [
    "mm1.server.requesters.lengthOfStayMonitor.display()"
   ]
  },
  {
   "cell_type": "markdown",
   "source": [
    "## MM1 with tick-transformation"
   ],
   "metadata": {
    "collapsed": false
   }
  },
  {
   "cell_type": "code",
   "execution_count": 11,
   "outputs": [
    {
     "name": "stdout",
     "output_type": "stream",
     "text": [
      "rho is 0.75. With rho>1 the system would be unstable, because there are more arrivals then the server can serve.\r\n"
     ]
    },
    {
     "data": {
      "text/plain": "{\n  \"now\": \"50.00\",\n  \"num_components\": 42,\n  \"queue\": [\n    \"Customer.30\",\n    \"Customer.31\",\n    \"ComponentGenerator.1\",\n    \"Customer.36\",\n    \"Customer.32\",\n    \"Customer.34\",\n    \"Customer.38\",\n    \"Customer.37\",\n    \"Customer.40\",\n    \"Customer.33\",\n    \"Customer.35\",\n    \"Customer.39\"\n  ]\n}"
     },
     "execution_count": 11,
     "metadata": {},
     "output_type": "execute_result"
    }
   ],
   "source": [
    "val mm1 = MM1Queue()\n",
    "\n",
    "// redo but with set tick-transform\n",
    "mm1.tickTransform = OffsetTransform(\n",
    "    offset = Instant.parse(\"2021-01-01T00:00:00.00Z\"),\n",
    "    tickUnit = TimeUnit.MINUTES\n",
    ")\n",
    "\n",
    "mm1.run(50)"
   ],
   "metadata": {
    "collapsed": false,
    "pycharm": {
     "name": "#%%\n"
    }
   }
  },
  {
   "cell_type": "code",
   "execution_count": 12,
   "outputs": [
    {
     "data": {
      "text/html": "   <div id=\"JI4pru\"></div>\n   <script type=\"text/javascript\" data-lets-plot-script=\"plot\">\n       (function() {\n           var plotSpec={\n\"mapping\":{\n},\n\"data\":{\n\"startWT\":[1.609459240961E12,1.609459352324E12,1.60945937526E12,1.609459523558E12,1.609459546202E12,1.609459793934E12,1.609459814916E12,1.609459875224E12,1.60946020858E12,1.609460261535E12,1.609460397635E12,1.609460493375E12,1.609460711833E12,1.609460729022E12,1.609460780277E12,1.609460923147E12,1.609460955574E12,1.609461123137E12,1.609461155128E12,1.609461204938E12,1.609461270966E12,1.609461367979E12,1.609461399074E12,1.609461521767E12,1.609461732148E12,1.609462040139E12,1.609462041308E12,1.60946211561E12,1.609462135641E12],\n\"activity\":[\"null\",\"null\",\"null\",\"null\",\"null\",\"null\",\"null\",\"null\",\"null\",\"null\",\"null\",\"null\",\"null\",\"null\",\"null\",\"null\",\"null\",\"null\",\"null\",\"null\",\"null\",\"null\",\"null\",\"null\",\"null\",\"null\",\"null\",\"null\",\"null\"],\n\"name\":[\"server\",\"server\",\"server\",\"server\",\"server\",\"server\",\"server\",\"server\",\"server\",\"server\",\"server\",\"server\",\"server\",\"server\",\"server\",\"server\",\"server\",\"server\",\"server\",\"server\",\"server\",\"server\",\"server\",\"server\",\"server\",\"server\",\"server\",\"server\",\"server\"],\n\"endWT\":[1.609459352324E12,1.60945937526E12,1.609459523558E12,1.609459546202E12,1.609459793934E12,1.609459814916E12,1.609459875224E12,1.60946020858E12,1.609460261535E12,1.609460397635E12,1.609460493375E12,1.609460711833E12,1.609460729022E12,1.609460780277E12,1.609460923147E12,1.609460955574E12,1.609461123137E12,1.609461155128E12,1.609461204938E12,1.609461270966E12,1.609461367979E12,1.609461399074E12,1.609461521767E12,1.609461732148E12,1.609462040139E12,1.609462041308E12,1.60946211561E12,1.609462135641E12,1.60946218082E12]\n},\n\"kind\":\"plot\",\n\"scales\":[{\n\"aesthetic\":\"y\",\n\"name\":\"\"\n},{\n\"aesthetic\":\"x\",\n\"name\":\"Time\"\n}],\n\"layers\":[{\n\"mapping\":{\n\"x\":\"startWT\",\n\"y\":\"name\",\n\"xend\":\"endWT\",\n\"yend\":\"name\",\n\"color\":\"activity\"\n},\n\"stat\":\"identity\",\n\"size\":10.0,\n\"position\":\"identity\",\n\"geom\":\"segment\",\n\"data\":{\n}\n}]\n};\n           var plotContainer = document.getElementById(\"JI4pru\");\n           window.letsPlotCall(function() {{\n               LetsPlot.buildPlotFromProcessedSpecs(plotSpec, -1, -1, plotContainer);\n           }});\n       })();    \n   </script>"
     },
     "execution_count": 12,
     "metadata": {},
     "output_type": "execute_result"
    }
   ],
   "source": [
    "mm1.server.activities.display(\"MM1 Server Utilization\")"
   ],
   "metadata": {
    "collapsed": false,
    "pycharm": {
     "name": "#%%\n"
    }
   }
  },
  {
   "cell_type": "code",
   "execution_count": 13,
   "outputs": [
    {
     "data": {
      "text/html": "   <div id=\"SAURGu\"></div>\n   <script type=\"text/javascript\" data-lets-plot-script=\"plot\">\n       (function() {\n           var plotSpec={\n\"mapping\":{\n},\n\"data\":{\n\"start\":[1.609459240961E12,1.609459240961E12,1.609459240961E12,1.609459240961E12,1.609459240961E12,1.609459240961E12,1.609459352324E12,1.609459352324E12,1.6094622E12,1.609459273941E12,1.609459273941E12,1.609459273941E12,1.609459273941E12,1.609459352324E12,1.609459352324E12,1.609459352324E12,1.60945937526E12,1.60945937526E12,1.6094622E12,1.609459346073E12,1.609459346073E12,1.609459346073E12,1.609459346073E12,1.60945937526E12,1.60945937526E12,1.60945937526E12,1.609459523558E12,1.609459523558E12,1.6094622E12,1.609459375872E12,1.609459375872E12,1.609459375872E12,1.609459375872E12,1.609459523558E12,1.609459523558E12,1.609459523558E12,1.609459546202E12,1.609459546202E12,1.6094622E12,1.60945946237E12,1.60945946237E12,1.60945946237E12,1.60945946237E12,1.609459546202E12,1.609459546202E12,1.609459546202E12,1.609459793934E12,1.609459793934E12,1.6094622E12,1.609459624849E12,1.609459624849E12,1.609459624849E12,1.609459624849E12,1.609459793934E12,1.609459793934E12,1.609459793934E12,1.609459814916E12,1.609459814916E12,1.6094622E12,1.609459683523E12,1.609459683523E12,1.609459683523E12,1.609459683523E12,1.609459814916E12,1.609459814916E12,1.609459814916E12,1.609459875224E12,1.609459875224E12,1.6094622E12,1.609459842286E12,1.609459842286E12,1.609459842286E12,1.609459842286E12,1.609459875224E12,1.609459875224E12,1.609459875224E12,1.60946020858E12,1.60946020858E12,1.6094622E12,1.609459855074E12,1.609459855074E12,1.609459855074E12,1.609459855074E12,1.60946020858E12,1.60946020858E12,1.60946020858E12,1.609460261535E12,1.609460261535E12,1.6094622E12,1.609459869478E12,1.609459869478E12,1.609459869478E12,1.609459869478E12,1.609460261535E12,1.609460261535E12,1.609460261535E12,1.609460397635E12,1.609460397635E12,1.6094622E12,1.60945991493E12,1.60945991493E12,1.60945991493E12,1.60945991493E12,1.609460397635E12,1.609460397635E12,1.609460397635E12,1.609460493375E12,1.609460493375E12,1.6094622E12,1.609460016164E12,1.609460016164E12,1.609460016164E12,1.609460016164E12,1.609460493375E12,1.609460493375E12,1.609460493375E12,1.609460711833E12,1.609460711833E12,1.6094622E12,1.609460073368E12,1.609460073368E12,1.609460073368E12,1.609460073368E12,1.609460711833E12,1.609460711833E12,1.609460711833E12,1.609460729022E12,1.609460729022E12,1.6094622E12,1.609460196118E12,1.609460196118E12,1.609460196118E12,1.609460196118E12,1.609460729022E12,1.609460729022E12,1.609460729022E12,1.609460780277E12,1.609460780277E12,1.6094622E12,1.609460214313E12,1.609460214313E12,1.609460214313E12,1.609460214313E12,1.609460780277E12,1.609460780277E12,1.609460780277E12,1.609460923147E12,1.609460923147E12,1.6094622E12,1.60946031958E12,1.60946031958E12,1.60946031958E12,1.60946031958E12,1.609460923147E12,1.609460923147E12,1.609460923147E12,1.609460955574E12,1.609460955574E12,1.6094622E12,1.609460410492E12,1.609460410492E12,1.609460410492E12,1.609460410492E12,1.609460955574E12,1.609460955574E12,1.609460955574E12,1.609461123137E12,1.609461123137E12,1.6094622E12,1.609460470588E12,1.609460470588E12,1.609460470588E12,1.609460470588E12,1.609461123137E12,1.609461123137E12,1.609461123137E12,1.609461155128E12,1.609461155128E12,1.6094622E12,1.609460545196E12,1.609460545196E12,1.609460545196E12,1.609460545196E12,1.609461155128E12,1.609461155128E12,1.609461155128E12,1.609461204938E12,1.609461204938E12,1.6094622E12,1.609460571458E12,1.609460571458E12,1.609460571458E12,1.609460571458E12,1.609461204938E12,1.609461204938E12,1.609461204938E12,1.609461270966E12,1.609461270966E12,1.6094622E12,1.609460595374E12,1.609460595374E12,1.609460595374E12,1.609460595374E12,1.609461270966E12,1.609461270966E12,1.609461270966E12,1.609461367979E12,1.609461367979E12,1.6094622E12,1.609460631349E12,1.609460631349E12,1.609460631349E12,1.609460631349E12,1.609461367979E12,1.609461367979E12,1.609461367979E12,1.609461399074E12,1.609461399074E12,1.6094622E12,1.60946071725E12,1.60946071725E12,1.60946071725E12,1.60946071725E12,1.609461399074E12,1.609461399074E12,1.609461399074E12,1.609461521767E12,1.609461521767E12,1.6094622E12,1.609460823198E12,1.609460823198E12,1.609460823198E12,1.609460823198E12,1.609461521767E12,1.609461521767E12,1.609461521767E12,1.609461732148E12,1.609461732148E12,1.6094622E12,1.609460858703E12,1.609460858703E12,1.609460858703E12,1.609460858703E12,1.609461732148E12,1.609461732148E12,1.609461732148E12,1.609462040139E12,1.609462040139E12,1.6094622E12,1.609460870939E12,1.609460870939E12,1.609460870939E12,1.609460870939E12,1.609462040139E12,1.609462040139E12,1.609462040139E12,1.609462041308E12,1.609462041308E12,1.6094622E12,1.609460893967E12,1.609460893967E12,1.609460893967E12,1.609460893967E12,1.609462041308E12,1.609462041308E12,1.609462041308E12,1.60946211561E12,1.60946211561E12,1.6094622E12,1.609460975413E12,1.609460975413E12,1.609460975413E12,1.609460975413E12,1.60946211561E12,1.60946211561E12,1.60946211561E12,1.609462135641E12,1.609462135641E12,1.6094622E12,1.609461039501E12,1.609461039501E12,1.609461039501E12,1.609461039501E12,1.609462135641E12,1.609462135641E12,1.609462135641E12,1.60946218082E12,1.60946218082E12,1.6094622E12,1.60946115436E12,1.60946115436E12,1.60946115436E12,1.60946115436E12,1.60946218082E12,1.60946218082E12,1.60946218082E12,1.6094622E12,1.609461203043E12,1.609461203043E12,1.609461203043E12,1.609461203043E12,1.6094622E12,1.609461411196E12,1.609461411196E12,1.609461411196E12,1.609461411196E12,1.6094622E12,1.609461497032E12,1.609461497032E12,1.609461497032E12,1.609461497032E12,1.6094622E12,1.609461565432E12,1.609461565432E12,1.609461565432E12,1.609461565432E12,1.6094622E12,1.609461620403E12,1.609461620403E12,1.609461620403E12,1.609461620403E12,1.6094622E12,1.609461755818E12,1.609461755818E12,1.609461755818E12,1.609461755818E12,1.6094622E12,1.609462085338E12,1.609462085338E12,1.609462085338E12,1.609462085338E12,1.6094622E12,1.609462089207E12,1.609462089207E12,1.609462089207E12,1.609462089207E12,1.6094622E12,1.609462149535E12,1.609462149535E12,1.609462149535E12,1.609462149535E12,1.6094622E12,1.609462159684E12,1.609462159684E12,1.609462159684E12,1.609462159684E12,1.6094622E12],\n\"name\":[\"Customer.1\",\"Customer.1\",\"Customer.1\",\"Customer.1\",\"Customer.1\",\"Customer.1\",\"Customer.1\",\"Customer.1\",\"Customer.1\",\"Customer.2\",\"Customer.2\",\"Customer.2\",\"Customer.2\",\"Customer.2\",\"Customer.2\",\"Customer.2\",\"Customer.2\",\"Customer.2\",\"Customer.2\",\"Customer.3\",\"Customer.3\",\"Customer.3\",\"Customer.3\",\"Customer.3\",\"Customer.3\",\"Customer.3\",\"Customer.3\",\"Customer.3\",\"Customer.3\",\"Customer.4\",\"Customer.4\",\"Customer.4\",\"Customer.4\",\"Customer.4\",\"Customer.4\",\"Customer.4\",\"Customer.4\",\"Customer.4\",\"Customer.4\",\"Customer.5\",\"Customer.5\",\"Customer.5\",\"Customer.5\",\"Customer.5\",\"Customer.5\",\"Customer.5\",\"Customer.5\",\"Customer.5\",\"Customer.5\",\"Customer.6\",\"Customer.6\",\"Customer.6\",\"Customer.6\",\"Customer.6\",\"Customer.6\",\"Customer.6\",\"Customer.6\",\"Customer.6\",\"Customer.6\",\"Customer.7\",\"Customer.7\",\"Customer.7\",\"Customer.7\",\"Customer.7\",\"Customer.7\",\"Customer.7\",\"Customer.7\",\"Customer.7\",\"Customer.7\",\"Customer.8\",\"Customer.8\",\"Customer.8\",\"Customer.8\",\"Customer.8\",\"Customer.8\",\"Customer.8\",\"Customer.8\",\"Customer.8\",\"Customer.8\",\"Customer.9\",\"Customer.9\",\"Customer.9\",\"Customer.9\",\"Customer.9\",\"Customer.9\",\"Customer.9\",\"Customer.9\",\"Customer.9\",\"Customer.9\",\"Customer.10\",\"Customer.10\",\"Customer.10\",\"Customer.10\",\"Customer.10\",\"Customer.10\",\"Customer.10\",\"Customer.10\",\"Customer.10\",\"Customer.10\",\"Customer.11\",\"Customer.11\",\"Customer.11\",\"Customer.11\",\"Customer.11\",\"Customer.11\",\"Customer.11\",\"Customer.11\",\"Customer.11\",\"Customer.11\",\"Customer.12\",\"Customer.12\",\"Customer.12\",\"Customer.12\",\"Customer.12\",\"Customer.12\",\"Customer.12\",\"Customer.12\",\"Customer.12\",\"Customer.12\",\"Customer.13\",\"Customer.13\",\"Customer.13\",\"Customer.13\",\"Customer.13\",\"Customer.13\",\"Customer.13\",\"Customer.13\",\"Customer.13\",\"Customer.13\",\"Customer.14\",\"Customer.14\",\"Customer.14\",\"Customer.14\",\"Customer.14\",\"Customer.14\",\"Customer.14\",\"Customer.14\",\"Customer.14\",\"Customer.14\",\"Customer.15\",\"Customer.15\",\"Customer.15\",\"Customer.15\",\"Customer.15\",\"Customer.15\",\"Customer.15\",\"Customer.15\",\"Customer.15\",\"Customer.15\",\"Customer.16\",\"Customer.16\",\"Customer.16\",\"Customer.16\",\"Customer.16\",\"Customer.16\",\"Customer.16\",\"Customer.16\",\"Customer.16\",\"Customer.16\",\"Customer.17\",\"Customer.17\",\"Customer.17\",\"Customer.17\",\"Customer.17\",\"Customer.17\",\"Customer.17\",\"Customer.17\",\"Customer.17\",\"Customer.17\",\"Customer.18\",\"Customer.18\",\"Customer.18\",\"Customer.18\",\"Customer.18\",\"Customer.18\",\"Customer.18\",\"Customer.18\",\"Customer.18\",\"Customer.18\",\"Customer.19\",\"Customer.19\",\"Customer.19\",\"Customer.19\",\"Customer.19\",\"Customer.19\",\"Customer.19\",\"Customer.19\",\"Customer.19\",\"Customer.19\",\"Customer.20\",\"Customer.20\",\"Customer.20\",\"Customer.20\",\"Customer.20\",\"Customer.20\",\"Customer.20\",\"Customer.20\",\"Customer.20\",\"Customer.20\",\"Customer.21\",\"Customer.21\",\"Customer.21\",\"Customer.21\",\"Customer.21\",\"Customer.21\",\"Customer.21\",\"Customer.21\",\"Customer.21\",\"Customer.21\",\"Customer.22\",\"Customer.22\",\"Customer.22\",\"Customer.22\",\"Customer.22\",\"Customer.22\",\"Customer.22\",\"Customer.22\",\"Customer.22\",\"Customer.22\",\"Customer.23\",\"Customer.23\",\"Customer.23\",\"Customer.23\",\"Customer.23\",\"Customer.23\",\"Customer.23\",\"Customer.23\",\"Customer.23\",\"Customer.23\",\"Customer.24\",\"Customer.24\",\"Customer.24\",\"Customer.24\",\"Customer.24\",\"Customer.24\",\"Customer.24\",\"Customer.24\",\"Customer.24\",\"Customer.24\",\"Customer.25\",\"Customer.25\",\"Customer.25\",\"Customer.25\",\"Customer.25\",\"Customer.25\",\"Customer.25\",\"Customer.25\",\"Customer.25\",\"Customer.25\",\"Customer.26\",\"Customer.26\",\"Customer.26\",\"Customer.26\",\"Customer.26\",\"Customer.26\",\"Customer.26\",\"Customer.26\",\"Customer.26\",\"Customer.26\",\"Customer.27\",\"Customer.27\",\"Customer.27\",\"Customer.27\",\"Customer.27\",\"Customer.27\",\"Customer.27\",\"Customer.27\",\"Customer.27\",\"Customer.27\",\"Customer.28\",\"Customer.28\",\"Customer.28\",\"Customer.28\",\"Customer.28\",\"Customer.28\",\"Customer.28\",\"Customer.28\",\"Customer.28\",\"Customer.28\",\"Customer.29\",\"Customer.29\",\"Customer.29\",\"Customer.29\",\"Customer.29\",\"Customer.29\",\"Customer.29\",\"Customer.29\",\"Customer.29\",\"Customer.29\",\"Customer.30\",\"Customer.30\",\"Customer.30\",\"Customer.30\",\"Customer.30\",\"Customer.30\",\"Customer.30\",\"Customer.30\",\"Customer.31\",\"Customer.31\",\"Customer.31\",\"Customer.31\",\"Customer.31\",\"Customer.32\",\"Customer.32\",\"Customer.32\",\"Customer.32\",\"Customer.32\",\"Customer.33\",\"Customer.33\",\"Customer.33\",\"Customer.33\",\"Customer.33\",\"Customer.34\",\"Customer.34\",\"Customer.34\",\"Customer.34\",\"Customer.34\",\"Customer.35\",\"Customer.35\",\"Customer.35\",\"Customer.35\",\"Customer.35\",\"Customer.36\",\"Customer.36\",\"Customer.36\",\"Customer.36\",\"Customer.36\",\"Customer.37\",\"Customer.37\",\"Customer.37\",\"Customer.37\",\"Customer.37\",\"Customer.38\",\"Customer.38\",\"Customer.38\",\"Customer.38\",\"Customer.38\",\"Customer.39\",\"Customer.39\",\"Customer.39\",\"Customer.39\",\"Customer.39\",\"Customer.40\",\"Customer.40\",\"Customer.40\",\"Customer.40\",\"Customer.40\"],\n\"end\":[1.609459281922E12,1.609459281922E12,1.609459281922E12,1.609459281922E12,1.609459281922E12,1.609459281922E12,1.609459504648E12,1.609459504648E12,1.6094652E12,1.609459347883E12,1.609459347883E12,1.609459347883E12,1.609459347883E12,1.609459504648E12,1.609459504648E12,1.609459504648E12,1.609459550521E12,1.609459550521E12,1.6094652E12,1.609459492146E12,1.609459492146E12,1.609459492146E12,1.609459492146E12,1.609459550521E12,1.609459550521E12,1.609459550521E12,1.609459847116E12,1.609459847116E12,1.6094652E12,1.609459551744E12,1.609459551744E12,1.609459551744E12,1.609459551744E12,1.609459847116E12,1.609459847116E12,1.609459847116E12,1.609459892404E12,1.609459892404E12,1.6094652E12,1.609459724741E12,1.609459724741E12,1.609459724741E12,1.609459724741E12,1.609459892404E12,1.609459892404E12,1.609459892404E12,1.609460387868E12,1.609460387868E12,1.6094652E12,1.609460049699E12,1.609460049699E12,1.609460049699E12,1.609460049699E12,1.609460387868E12,1.609460387868E12,1.609460387868E12,1.609460429833E12,1.609460429833E12,1.6094652E12,1.609460167046E12,1.609460167046E12,1.609460167046E12,1.609460167046E12,1.609460429833E12,1.609460429833E12,1.609460429833E12,1.609460550448E12,1.609460550448E12,1.6094652E12,1.609460484573E12,1.609460484573E12,1.609460484573E12,1.609460484573E12,1.609460550448E12,1.609460550448E12,1.609460550448E12,1.609461217161E12,1.609461217161E12,1.6094652E12,1.609460510148E12,1.609460510148E12,1.609460510148E12,1.609460510148E12,1.609461217161E12,1.609461217161E12,1.609461217161E12,1.60946132307E12,1.60946132307E12,1.6094652E12,1.609460538957E12,1.609460538957E12,1.609460538957E12,1.609460538957E12,1.60946132307E12,1.60946132307E12,1.60946132307E12,1.60946159527E12,1.60946159527E12,1.6094652E12,1.60946062986E12,1.60946062986E12,1.60946062986E12,1.60946062986E12,1.60946159527E12,1.60946159527E12,1.60946159527E12,1.609461786751E12,1.609461786751E12,1.6094652E12,1.609460832329E12,1.609460832329E12,1.609460832329E12,1.609460832329E12,1.609461786751E12,1.609461786751E12,1.609461786751E12,1.609462223666E12,1.609462223666E12,1.6094652E12,1.609460946736E12,1.609460946736E12,1.609460946736E12,1.609460946736E12,1.609462223666E12,1.609462223666E12,1.609462223666E12,1.609462258044E12,1.609462258044E12,1.6094652E12,1.609461192237E12,1.609461192237E12,1.609461192237E12,1.609461192237E12,1.609462258044E12,1.609462258044E12,1.609462258044E12,1.609462360554E12,1.609462360554E12,1.6094652E12,1.609461228626E12,1.609461228626E12,1.609461228626E12,1.609461228626E12,1.609462360554E12,1.609462360554E12,1.609462360554E12,1.609462646295E12,1.609462646295E12,1.6094652E12,1.60946143916E12,1.60946143916E12,1.60946143916E12,1.60946143916E12,1.609462646295E12,1.609462646295E12,1.609462646295E12,1.609462711148E12,1.609462711148E12,1.6094652E12,1.609461620985E12,1.609461620985E12,1.609461620985E12,1.609461620985E12,1.609462711148E12,1.609462711148E12,1.609462711148E12,1.609463046274E12,1.609463046274E12,1.6094652E12,1.609461741177E12,1.609461741177E12,1.609461741177E12,1.609461741177E12,1.609463046274E12,1.609463046274E12,1.609463046274E12,1.609463110256E12,1.609463110256E12,1.6094652E12,1.609461890393E12,1.609461890393E12,1.609461890393E12,1.609461890393E12,1.609463110256E12,1.609463110256E12,1.609463110256E12,1.609463209876E12,1.609463209876E12,1.6094652E12,1.609461942916E12,1.609461942916E12,1.609461942916E12,1.609461942916E12,1.609463209876E12,1.609463209876E12,1.609463209876E12,1.609463341933E12,1.609463341933E12,1.6094652E12,1.609461990749E12,1.609461990749E12,1.609461990749E12,1.609461990749E12,1.609463341933E12,1.609463341933E12,1.609463341933E12,1.609463535958E12,1.609463535958E12,1.6094652E12,1.609462062698E12,1.609462062698E12,1.609462062698E12,1.609462062698E12,1.609463535958E12,1.609463535958E12,1.609463535958E12,1.609463598148E12,1.609463598148E12,1.6094652E12,1.609462234501E12,1.609462234501E12,1.609462234501E12,1.609462234501E12,1.609463598148E12,1.609463598148E12,1.609463598148E12,1.609463843534E12,1.609463843534E12,1.6094652E12,1.609462446397E12,1.609462446397E12,1.609462446397E12,1.609462446397E12,1.609463843534E12,1.609463843534E12,1.609463843534E12,1.609464264296E12,1.609464264296E12,1.6094652E12,1.609462517406E12,1.609462517406E12,1.609462517406E12,1.609462517406E12,1.609464264296E12,1.609464264296E12,1.609464264296E12,1.609464880278E12,1.609464880278E12,1.6094652E12,1.609462541879E12,1.609462541879E12,1.609462541879E12,1.609462541879E12,1.609464880278E12,1.609464880278E12,1.609464880278E12,1.609464882616E12,1.609464882616E12,1.6094652E12,1.609462587935E12,1.609462587935E12,1.609462587935E12,1.609462587935E12,1.609464882616E12,1.609464882616E12,1.609464882616E12,1.609465031221E12,1.609465031221E12,1.6094652E12,1.609462750827E12,1.609462750827E12,1.609462750827E12,1.609462750827E12,1.609465031221E12,1.609465031221E12,1.609465031221E12,1.609465071283E12,1.609465071283E12,1.6094652E12,1.609462879002E12,1.609462879002E12,1.609462879002E12,1.609462879002E12,1.609465071283E12,1.609465071283E12,1.609465071283E12,1.609465161641E12,1.609465161641E12,1.6094652E12,1.60946310872E12,1.60946310872E12,1.60946310872E12,1.60946310872E12,1.609465161641E12,1.609465161641E12,1.609465161641E12,1.6094652E12,1.609463206087E12,1.609463206087E12,1.609463206087E12,1.609463206087E12,1.6094652E12,1.609463622392E12,1.609463622392E12,1.609463622392E12,1.609463622392E12,1.6094652E12,1.609463794065E12,1.609463794065E12,1.609463794065E12,1.609463794065E12,1.6094652E12,1.609463930865E12,1.609463930865E12,1.609463930865E12,1.609463930865E12,1.6094652E12,1.609464040806E12,1.609464040806E12,1.609464040806E12,1.609464040806E12,1.6094652E12,1.609464311636E12,1.609464311636E12,1.609464311636E12,1.609464311636E12,1.6094652E12,1.609464970677E12,1.609464970677E12,1.609464970677E12,1.609464970677E12,1.6094652E12,1.609464978415E12,1.609464978415E12,1.609464978415E12,1.609464978415E12,1.6094652E12,1.609465099071E12,1.609465099071E12,1.609465099071E12,1.609465099071E12,1.6094652E12,1.609465119369E12,1.609465119369E12,1.609465119369E12,1.609465119369E12,1.6094652E12],\n\"value\":[\"DATA\",\"SCHEDULED\",\"CURRENT\",\"SCHEDULED\",\"CURRENT\",\"SCHEDULED\",\"CURRENT\",\"DATA\",\"DATA\",\"DATA\",\"SCHEDULED\",\"CURRENT\",\"REQUESTING\",\"SCHEDULED\",\"CURRENT\",\"SCHEDULED\",\"CURRENT\",\"DATA\",\"DATA\",\"DATA\",\"SCHEDULED\",\"CURRENT\",\"REQUESTING\",\"SCHEDULED\",\"CURRENT\",\"SCHEDULED\",\"CURRENT\",\"DATA\",\"DATA\",\"DATA\",\"SCHEDULED\",\"CURRENT\",\"REQUESTING\",\"SCHEDULED\",\"CURRENT\",\"SCHEDULED\",\"CURRENT\",\"DATA\",\"DATA\",\"DATA\",\"SCHEDULED\",\"CURRENT\",\"REQUESTING\",\"SCHEDULED\",\"CURRENT\",\"SCHEDULED\",\"CURRENT\",\"DATA\",\"DATA\",\"DATA\",\"SCHEDULED\",\"CURRENT\",\"REQUESTING\",\"SCHEDULED\",\"CURRENT\",\"SCHEDULED\",\"CURRENT\",\"DATA\",\"DATA\",\"DATA\",\"SCHEDULED\",\"CURRENT\",\"REQUESTING\",\"SCHEDULED\",\"CURRENT\",\"SCHEDULED\",\"CURRENT\",\"DATA\",\"DATA\",\"DATA\",\"SCHEDULED\",\"CURRENT\",\"REQUESTING\",\"SCHEDULED\",\"CURRENT\",\"SCHEDULED\",\"CURRENT\",\"DATA\",\"DATA\",\"DATA\",\"SCHEDULED\",\"CURRENT\",\"REQUESTING\",\"SCHEDULED\",\"CURRENT\",\"SCHEDULED\",\"CURRENT\",\"DATA\",\"DATA\",\"DATA\",\"SCHEDULED\",\"CURRENT\",\"REQUESTING\",\"SCHEDULED\",\"CURRENT\",\"SCHEDULED\",\"CURRENT\",\"DATA\",\"DATA\",\"DATA\",\"SCHEDULED\",\"CURRENT\",\"REQUESTING\",\"SCHEDULED\",\"CURRENT\",\"SCHEDULED\",\"CURRENT\",\"DATA\",\"DATA\",\"DATA\",\"SCHEDULED\",\"CURRENT\",\"REQUESTING\",\"SCHEDULED\",\"CURRENT\",\"SCHEDULED\",\"CURRENT\",\"DATA\",\"DATA\",\"DATA\",\"SCHEDULED\",\"CURRENT\",\"REQUESTING\",\"SCHEDULED\",\"CURRENT\",\"SCHEDULED\",\"CURRENT\",\"DATA\",\"DATA\",\"DATA\",\"SCHEDULED\",\"CURRENT\",\"REQUESTING\",\"SCHEDULED\",\"CURRENT\",\"SCHEDULED\",\"CURRENT\",\"DATA\",\"DATA\",\"DATA\",\"SCHEDULED\",\"CURRENT\",\"REQUESTING\",\"SCHEDULED\",\"CURRENT\",\"SCHEDULED\",\"CURRENT\",\"DATA\",\"DATA\",\"DATA\",\"SCHEDULED\",\"CURRENT\",\"REQUESTING\",\"SCHEDULED\",\"CURRENT\",\"SCHEDULED\",\"CURRENT\",\"DATA\",\"DATA\",\"DATA\",\"SCHEDULED\",\"CURRENT\",\"REQUESTING\",\"SCHEDULED\",\"CURRENT\",\"SCHEDULED\",\"CURRENT\",\"DATA\",\"DATA\",\"DATA\",\"SCHEDULED\",\"CURRENT\",\"REQUESTING\",\"SCHEDULED\",\"CURRENT\",\"SCHEDULED\",\"CURRENT\",\"DATA\",\"DATA\",\"DATA\",\"SCHEDULED\",\"CURRENT\",\"REQUESTING\",\"SCHEDULED\",\"CURRENT\",\"SCHEDULED\",\"CURRENT\",\"DATA\",\"DATA\",\"DATA\",\"SCHEDULED\",\"CURRENT\",\"REQUESTING\",\"SCHEDULED\",\"CURRENT\",\"SCHEDULED\",\"CURRENT\",\"DATA\",\"DATA\",\"DATA\",\"SCHEDULED\",\"CURRENT\",\"REQUESTING\",\"SCHEDULED\",\"CURRENT\",\"SCHEDULED\",\"CURRENT\",\"DATA\",\"DATA\",\"DATA\",\"SCHEDULED\",\"CURRENT\",\"REQUESTING\",\"SCHEDULED\",\"CURRENT\",\"SCHEDULED\",\"CURRENT\",\"DATA\",\"DATA\",\"DATA\",\"SCHEDULED\",\"CURRENT\",\"REQUESTING\",\"SCHEDULED\",\"CURRENT\",\"SCHEDULED\",\"CURRENT\",\"DATA\",\"DATA\",\"DATA\",\"SCHEDULED\",\"CURRENT\",\"REQUESTING\",\"SCHEDULED\",\"CURRENT\",\"SCHEDULED\",\"CURRENT\",\"DATA\",\"DATA\",\"DATA\",\"SCHEDULED\",\"CURRENT\",\"REQUESTING\",\"SCHEDULED\",\"CURRENT\",\"SCHEDULED\",\"CURRENT\",\"DATA\",\"DATA\",\"DATA\",\"SCHEDULED\",\"CURRENT\",\"REQUESTING\",\"SCHEDULED\",\"CURRENT\",\"SCHEDULED\",\"CURRENT\",\"DATA\",\"DATA\",\"DATA\",\"SCHEDULED\",\"CURRENT\",\"REQUESTING\",\"SCHEDULED\",\"CURRENT\",\"SCHEDULED\",\"CURRENT\",\"DATA\",\"DATA\",\"DATA\",\"SCHEDULED\",\"CURRENT\",\"REQUESTING\",\"SCHEDULED\",\"CURRENT\",\"SCHEDULED\",\"CURRENT\",\"DATA\",\"DATA\",\"DATA\",\"SCHEDULED\",\"CURRENT\",\"REQUESTING\",\"SCHEDULED\",\"CURRENT\",\"SCHEDULED\",\"CURRENT\",\"DATA\",\"DATA\",\"DATA\",\"SCHEDULED\",\"CURRENT\",\"REQUESTING\",\"SCHEDULED\",\"CURRENT\",\"SCHEDULED\",\"SCHEDULED\",\"DATA\",\"SCHEDULED\",\"CURRENT\",\"REQUESTING\",\"REQUESTING\",\"DATA\",\"SCHEDULED\",\"CURRENT\",\"REQUESTING\",\"REQUESTING\",\"DATA\",\"SCHEDULED\",\"CURRENT\",\"REQUESTING\",\"REQUESTING\",\"DATA\",\"SCHEDULED\",\"CURRENT\",\"REQUESTING\",\"REQUESTING\",\"DATA\",\"SCHEDULED\",\"CURRENT\",\"REQUESTING\",\"REQUESTING\",\"DATA\",\"SCHEDULED\",\"CURRENT\",\"REQUESTING\",\"REQUESTING\",\"DATA\",\"SCHEDULED\",\"CURRENT\",\"REQUESTING\",\"REQUESTING\",\"DATA\",\"SCHEDULED\",\"CURRENT\",\"REQUESTING\",\"REQUESTING\",\"DATA\",\"SCHEDULED\",\"CURRENT\",\"REQUESTING\",\"REQUESTING\",\"DATA\",\"SCHEDULED\",\"CURRENT\",\"REQUESTING\",\"REQUESTING\"]\n},\n\"kind\":\"plot\",\n\"scales\":[{\n\"aesthetic\":\"x\",\n\"name\":\"Component\"\n}],\n\"layers\":[{\n\"mapping\":{\n\"x\":\"start\",\n\"y\":\"name\",\n\"xend\":\"end\",\n\"yend\":\"name\",\n\"color\":\"value\"\n},\n\"stat\":\"identity\",\n\"position\":\"identity\",\n\"geom\":\"segment\",\n\"data\":{\n}\n}]\n};\n           var plotContainer = document.getElementById(\"SAURGu\");\n           window.letsPlotCall(function() {{\n               LetsPlot.buildPlotFromProcessedSpecs(plotSpec, -1, -1, plotContainer);\n           }});\n       })();    \n   </script>"
     },
     "execution_count": 13,
     "metadata": {},
     "output_type": "execute_result"
    }
   ],
   "source": [
    "mm1.componentGenerator.arrivals.displayStateTimeline(\"MM1 Server Utilization\")"
   ],
   "metadata": {
    "collapsed": false,
    "pycharm": {
     "name": "#%%\n"
    }
   }
  },
  {
   "cell_type": "code",
   "execution_count": 14,
   "outputs": [
    {
     "data": {
      "text/html": "   <div id=\"yy9H33\"></div>\n   <script type=\"text/javascript\" data-lets-plot-script=\"plot\">\n       (function() {\n           var plotSpec={\n\"ggtitle\":{\n\"text\":\"Claimed Server Capacity\"\n},\n\"mapping\":{\n},\n\"data\":{\n\"first\":[1.6094592E12,1.609459240961E12,1.609459352324E12,1.609459352324E12,1.60945937526E12,1.60945937526E12,1.609459523558E12,1.609459523558E12,1.609459546202E12,1.609459546202E12,1.609459793934E12,1.609459793934E12,1.609459814916E12,1.609459814916E12,1.609459875224E12,1.609459875224E12,1.60946020858E12,1.60946020858E12,1.609460261535E12,1.609460261535E12,1.609460397635E12,1.609460397635E12,1.609460493375E12,1.609460493375E12,1.609460711833E12,1.609460711833E12,1.609460729022E12,1.609460729022E12,1.609460780277E12,1.609460780277E12,1.609460923147E12,1.609460923147E12,1.609460955574E12,1.609460955574E12,1.609461123137E12,1.609461123137E12,1.609461155128E12,1.609461155128E12,1.609461204938E12,1.609461204938E12,1.609461270966E12,1.609461270966E12,1.609461367979E12,1.609461367979E12,1.609461399074E12,1.609461399074E12,1.609461521767E12,1.609461521767E12,1.609461732148E12,1.609461732148E12,1.609462040139E12,1.609462040139E12,1.609462041308E12,1.609462041308E12,1.60946211561E12,1.60946211561E12,1.609462135641E12,1.609462135641E12,1.60946218082E12,1.60946218082E12,1.6094622E12],\n\"second\":[0.0,1.0,0.0,1.0,0.0,1.0,0.0,1.0,0.0,1.0,0.0,1.0,0.0,1.0,0.0,1.0,0.0,1.0,0.0,1.0,0.0,1.0,0.0,1.0,0.0,1.0,0.0,1.0,0.0,1.0,0.0,1.0,0.0,1.0,0.0,1.0,0.0,1.0,0.0,1.0,0.0,1.0,0.0,1.0,0.0,1.0,0.0,1.0,0.0,1.0,0.0,1.0,0.0,1.0,0.0,1.0,0.0,1.0,0.0,1.0,1.0]\n},\n\"kind\":\"plot\",\n\"scales\":[],\n\"layers\":[{\n\"mapping\":{\n\"x\":\"first\",\n\"y\":\"second\"\n},\n\"stat\":\"identity\",\n\"position\":\"identity\",\n\"geom\":\"step\",\n\"data\":{\n}\n}]\n};\n           var plotContainer = document.getElementById(\"yy9H33\");\n           window.letsPlotCall(function() {{\n               LetsPlot.buildPlotFromProcessedSpecs(plotSpec, -1, -1, plotContainer);\n           }});\n       })();    \n   </script>"
     },
     "execution_count": 14,
     "metadata": {},
     "output_type": "execute_result"
    }
   ],
   "source": [
    "mm1.server.claimedTimeline.display(\"Claimed Server Capacity\")"
   ],
   "metadata": {
    "collapsed": false,
    "pycharm": {
     "name": "#%%\n"
    }
   }
  },
  {
   "cell_type": "code",
   "execution_count": 15,
   "outputs": [],
   "source": [
    "val customerTimeline =\n",
    "    mm1.componentGenerator.arrivals.first().statusTimeline"
   ],
   "metadata": {
    "collapsed": false,
    "pycharm": {
     "name": "#%%\n"
    }
   }
  },
  {
   "cell_type": "code",
   "execution_count": 16,
   "outputs": [
    {
     "data": {
      "text/html": "   <div id=\"bc1Tx9\"></div>\n   <script type=\"text/javascript\" data-lets-plot-script=\"plot\">\n       (function() {\n           var plotSpec={\n\"ggtitle\":{\n\"text\":\"Arrival State Timeline\"\n},\n\"mapping\":{\n},\n\"data\":{\n\"start\":[0.6826910400986043,0.6826910400986043,0.6826910400986043,0.6826910400986043,0.6826910400986043,0.6826910400986043,2.538741043879773,2.538741043879773],\n\"end\":[0.6826910400986043,0.6826910400986043,0.6826910400986043,0.6826910400986043,0.6826910400986043,2.538741043879773,2.538741043879773,50.0],\n\"value\":[\"DATA\",\"SCHEDULED\",\"CURRENT\",\"SCHEDULED\",\"CURRENT\",\"SCHEDULED\",\"CURRENT\",\"DATA\"]\n},\n\"kind\":\"plot\",\n\"scales\":[{\n\"aesthetic\":\"x\",\n\"name\":\"time\"\n},{\n\"aesthetic\":\"y\",\n\"name\":\"\"\n}],\n\"layers\":[{\n\"mapping\":{\n\"x\":\"start\",\n\"y\":\"value\",\n\"xend\":\"end\",\n\"yend\":\"value\"\n},\n\"stat\":\"identity\",\n\"position\":\"identity\",\n\"geom\":\"segment\",\n\"data\":{\n}\n},{\n\"mapping\":{\n},\n\"stat\":\"identity\",\n\"position\":\"identity\",\n\"geom\":\"point\",\n\"data\":{\n}\n}]\n};\n           var plotContainer = document.getElementById(\"bc1Tx9\");\n           window.letsPlotCall(function() {{\n               LetsPlot.buildPlotFromProcessedSpecs(plotSpec, -1, -1, plotContainer);\n           }});\n       })();    \n   </script>"
     },
     "execution_count": 16,
     "metadata": {},
     "output_type": "execute_result"
    }
   ],
   "source": [
    "\n",
    "customerTimeline.display(\"Arrival State Timeline\", forceTickAxis = true)\n"
   ],
   "metadata": {
    "collapsed": false,
    "pycharm": {
     "name": "#%%\n"
    }
   }
  },
  {
   "cell_type": "code",
   "execution_count": 17,
   "outputs": [
    {
     "data": {
      "text/html": "   <div id=\"nyO2Y9\"></div>\n   <script type=\"text/javascript\" data-lets-plot-script=\"plot\">\n       (function() {\n           var plotSpec={\n\"ggtitle\":{\n\"text\":\"Arrival State Timeline\"\n},\n\"mapping\":{\n},\n\"data\":{\n\"start\":[1.609459240961E12,1.609459240961E12,1.609459240961E12,1.609459240961E12,1.609459240961E12,1.609459240961E12,1.609459352324E12,1.609459352324E12],\n\"end\":[1.609459240961E12,1.609459240961E12,1.609459240961E12,1.609459240961E12,1.609459240961E12,1.609459352324E12,1.609459352324E12,1.6094622E12],\n\"value\":[\"DATA\",\"SCHEDULED\",\"CURRENT\",\"SCHEDULED\",\"CURRENT\",\"SCHEDULED\",\"CURRENT\",\"DATA\"]\n},\n\"kind\":\"plot\",\n\"scales\":[{\n\"aesthetic\":\"x\",\n\"name\":\"time\"\n},{\n\"aesthetic\":\"y\",\n\"name\":\"\"\n}],\n\"layers\":[{\n\"mapping\":{\n\"x\":\"start\",\n\"y\":\"value\",\n\"xend\":\"end\",\n\"yend\":\"value\"\n},\n\"stat\":\"identity\",\n\"position\":\"identity\",\n\"geom\":\"segment\",\n\"data\":{\n}\n},{\n\"mapping\":{\n},\n\"stat\":\"identity\",\n\"position\":\"identity\",\n\"geom\":\"point\",\n\"data\":{\n}\n}]\n};\n           var plotContainer = document.getElementById(\"nyO2Y9\");\n           window.letsPlotCall(function() {{\n               LetsPlot.buildPlotFromProcessedSpecs(plotSpec, -1, -1, plotContainer);\n           }});\n       })();    \n   </script>"
     },
     "execution_count": 17,
     "metadata": {},
     "output_type": "execute_result"
    }
   ],
   "source": [
    "customerTimeline.display(\"Arrival State Timeline\")"
   ],
   "metadata": {
    "collapsed": false,
    "pycharm": {
     "name": "#%%\n"
    }
   }
  }
 ],
 "metadata": {
  "kernelspec": {
   "display_name": "Kotlin",
   "language": "kotlin",
   "name": "kotlin"
  },
  "language_info": {
   "codemirror_mode": "text/x-kotlin",
   "file_extension": ".kt",
   "mimetype": "text/x-kotlin",
   "name": "kotlin",
   "nbconvert_exporter": "",
   "pygments_lexer": "kotlin",
   "version": "1.6.20-dev-3702"
  },
  "pycharm": {
   "revision": "b0e9d382-3ea0-436b-b276-37a6c7abade4"
  }
 },
 "nbformat": 4,
 "nbformat_minor": 4
}