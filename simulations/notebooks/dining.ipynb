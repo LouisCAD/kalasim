{
 "cells": [
  {
   "cell_type": "code",
   "execution_count": 1,
   "metadata": {},
   "outputs": [],
   "source": [
    "%use krangl\n"
   ]
  },
  {
   "cell_type": "code",
   "execution_count": 2,
   "metadata": {},
   "outputs": [],
   "source": [
    "// %use kravis\n",
    "@file:DependsOn(\"com.github.holgerbrandl:kravis:0.6.1\")"
   ]
  },
  {
   "cell_type": "code",
   "execution_count": 3,
   "metadata": {},
   "outputs": [],
   "source": [
    "@file:Repository(\"*mavenLocal\")\n",
    "@file:DependsOn(\"org.kalasim:kalasim:0.5-SNAPSHOT\")"
   ]
  },
  {
   "cell_type": "code",
   "execution_count": 4,
   "metadata": {},
   "outputs": [],
   "source": [
    "import krangl.*\n",
    "\n",
    "import org.kalasim.*\n",
    "\n",
    "import org.kalasim.misc.repeat\n",
    "import org.koin.core.component.get\n"
   ]
  },
  {
   "cell_type": "markdown",
   "metadata": {
    "pycharm": {
     "name": "#%% md\n"
    }
   },
   "source": [
    "## Entity Definition"
   ]
  },
  {
   "cell_type": "code",
   "execution_count": 5,
   "metadata": {},
   "outputs": [],
   "source": [
    "// Define simulation types\n",
    "class Fork : Resource()\n",
    "\n",
    "class Philosopher(name: String, val leftFork: Fork, val rightFork: Fork) : Component(name) {\n",
    "    val thinking = exponential(1)\n",
    "    val eating = exponential(1)\n",
    "\n",
    "    override fun process() = sequence {\n",
    "        while(true) {\n",
    "            hold(thinking())\n",
    "            request(leftFork) {\n",
    "                hold(0.1) // wait before taking the second fork\n",
    "                request(rightFork) {\n",
    "                    hold(eating())\n",
    "                    log(\"$name is eating\")\n",
    "                }\n",
    "            }\n",
    "        }\n",
    "    }\n",
    "}"
   ]
  },
  {
   "cell_type": "markdown",
   "metadata": {
    "pycharm": {
     "name": "#%% md\n"
    }
   },
   "source": [
    "## Simulation"
   ]
  },
  {
   "cell_type": "code",
   "execution_count": 7,
   "metadata": {},
   "outputs": [],
   "source": [
    "// run simulation\n",
    "val sim = createSimulation {\n",
    "    traceCollector()\n",
    "\n",
    "    // create forks and resources\n",
    "    val names = listOf(\"Socrates\", \"Pythagoras\", \"Plato\", \"Aristotle\")\n",
    "    val forks = repeat(names.size) { Fork() }.repeat().take(names.size + 1).toList()\n",
    "    names.forEachIndexed { idx, name ->\n",
    "        Philosopher(name, forks[idx], forks[(idx + 1).rem(forks.size)])\n",
    "    }\n",
    "\n",
    "    run(100)\n",
    "}"
   ]
  },
  {
   "cell_type": "markdown",
   "metadata": {
    "pycharm": {
     "name": "#%% md\n"
    }
   },
   "source": [
    "## Analysis"
   ]
  },
  {
   "cell_type": "code",
   "execution_count": null,
   "outputs": [],
   "source": [
    "data class RequestRecord(val requester: String, val timestamp: Double, val resource: String, val quantity: Double)\n",
    "\n",
    "val tc = sim.get<TraceCollector>()\n",
    "val requests = tc.filterIsInstance<ResourceEvent>().map {\n",
    "    val amountDirected = (if(it.type == ResourceEventType.RELEASED) -1 else 1) * it.amount\n",
    "    RequestRecord(it.requester.name, it.time, it.resource.name, amountDirected)\n",
    "}\n",
    "\n",
    "val requestsDf = requests.asDataFrame()\n",
    "    .groupBy(\"requester\")\n",
    "    .sortedBy(\"requester\", \"timestamp\")\n",
    "    .addColumn(\"end_time\") { it[\"timestamp\"].lag() }\n",
    "    .filter { it[\"quantity\"] gt 0 }"
   ],
   "metadata": {
    "collapsed": false,
    "pycharm": {
     "name": "#%%\n"
    }
   }
  },
  {
   "cell_type": "code",
   "execution_count": null,
   "outputs": [],
   "source": [
    " requestsDf.schema()"
   ],
   "metadata": {
    "collapsed": false,
    "pycharm": {
     "name": "#%%\n"
    }
   }
  },
  {
   "cell_type": "code",
   "execution_count": null,
   "outputs": [],
   "source": [
    "requestsDf.head()"
   ],
   "metadata": {
    "collapsed": false,
    "pycharm": {
     "name": "#%%\n"
    }
   }
  },
  {
   "cell_type": "code",
   "execution_count": null,
   "outputs": [],
   "source": [
    "import kravis.*\n"
   ],
   "metadata": {
    "collapsed": false,
    "pycharm": {
     "name": "#%%\n"
    }
   }
  },
  {
   "cell_type": "code",
   "execution_count": null,
   "outputs": [],
   "source": [
    "SessionPrefs.OUTPUT_DEVICE = kravis.device.JupyterDevice()"
   ],
   "metadata": {
    "collapsed": false,
    "pycharm": {
     "name": "#%%\n"
    }
   }
  },
  {
   "cell_type": "code",
   "execution_count": null,
   "outputs": [],
   "source": [
    "SessionPrefs.OUTPUT_DEVICE"
   ],
   "metadata": {
    "collapsed": false,
    "pycharm": {
     "name": "#%%\n"
    }
   }
  },
  {
   "cell_type": "code",
   "execution_count": null,
   "outputs": [],
   "source": [
    "// try to visualize it with kravis first\n",
    "\n",
    "requestsDf.plot(x=\"timestamp\").geomHistogram().show()\n",
    "\n",
    "// also see https://github.com/holgerbrandl/data_science_with_kotlin/blob/master/report_rendering/nyc/WildRideThroughNYC.ipynb\n"
   ],
   "metadata": {
    "collapsed": false,
    "pycharm": {
     "name": "#%%\n"
    }
   }
  },
  {
   "cell_type": "code",
   "execution_count": 8,
   "metadata": {},
   "outputs": [],
   "source": []
  },
  {
   "cell_type": "code",
   "execution_count": 9,
   "metadata": {},
   "outputs": [
    {
     "name": "stdout",
     "output_type": "stream",
     "text": [
      "DataFrame with 240 observations\n",
      "quantity   [Dbl]  1, 1, 1, 1, 1, 1, 1, 1, 1, 1, 1, 1, 1, 1, 1, 1, 1, 1, 1, 1, 1, 1, 1, 1, 1, 1, 1, 1, 1, 1, 1, 1, 1, 1...\n",
      "requester  [Str]  Pythagoras, Pythagoras, Pythagoras, Pythagoras, Pythagoras, Pythagoras, Pythagoras, Pythagoras, Pyth...\n",
      "resource   [Str]  Fork.2, Fork.3, Fork.2, Fork.3, Fork.2, Fork.3, Fork.2, Fork.3, Fork.2, Fork.3, Fork.2, Fork.3, Fork...\n",
      "timestamp  [Dbl]  0.366, 0.466, 2.033, 5.903, 8.17, 11.108, 13.107, 14.125, 16.613, 17.834, 20.201, 21.242, 23.915, 26...\n",
      "end_time   [Dbl]  <NA>, 0.366, 0.798, 2.033, 7.667, 8.17, 11.743, 13.107, 14.793, 16.613, 19.011, 20.201, 22.639, 23.9...\n"
     ]
    }
   ],
   "source": [
    " requestsDf.schema()"
   ]
  },
  {
   "cell_type": "code",
   "execution_count": 10,
   "metadata": {},
   "outputs": [
    {
     "data": {
      "text/plain": [
       "Grouped by: *[requester]\r\n",
       "A DataFrame: 5 x 5\r\n",
       "    quantity    requester   resource   timestamp   end_time\r\n",
       "1          1   Pythagoras     Fork.2       0.366       <NA>\r\n",
       "2          1   Pythagoras     Fork.3       0.466      0.366\r\n",
       "3          1   Pythagoras     Fork.2       2.033      0.798\r\n",
       "4          1   Pythagoras     Fork.3       5.903      2.033\r\n",
       "5          1   Pythagoras     Fork.2        8.17      7.667"
      ]
     },
     "execution_count": 10,
     "metadata": {
      "new_classpath": []
     },
     "output_type": "execute_result"
    }
   ],
   "source": [
    "requestsDf.head()"
   ]
  },
  {
   "cell_type": "code",
   "execution_count": 11,
   "metadata": {},
   "outputs": [],
   "source": [
    "import kravis.*\n"
   ]
  },
  {
   "cell_type": "code",
   "execution_count": 14,
   "metadata": {},
   "outputs": [],
   "source": [
    "SessionPrefs.OUTPUT_DEVICE = kravis.device.JupyterDevice()"
   ]
  },
  {
   "cell_type": "code",
   "execution_count": 16,
   "metadata": {},
   "outputs": [
    {
     "data": {
      "text/plain": [
       "kravis.device.JupyterDevice@6cf11b63"
      ]
     },
     "execution_count": 16,
     "metadata": {
      "new_classpath": []
     },
     "output_type": "execute_result"
    }
   ],
   "source": [
    "SessionPrefs.OUTPUT_DEVICE"
   ]
  },
  {
   "cell_type": "code",
   "execution_count": 17,
   "metadata": {},
   "outputs": [
    {
     "name": "stderr",
     "output_type": "stream",
     "text": [
      "java.lang.UnsupportedOperationException\n",
      "krangl.Extensions.rowData(Extensions.kt:902)\n",
      "krangl.TableIOKt.writeCSV(TableIO.kt:297)\n",
      "krangl.TableIOKt.writeTSV(TableIO.kt:274)\n",
      "krangl.TableIOKt.writeTSV$default(TableIO.kt:273)\n",
      "kravis.render.LocalR.render$kravis(LocalR.kt:17)\n",
      "kravis.GGPlot.save(GGPlot2.kt:164)\n",
      "kravis.device.JupyterDevice.show(JupyterDevice.kt:26)\n",
      "kravis.device.JupyterDevice.show(JupyterDevice.kt:21)\n",
      "kravis.GGPlot.show(GGPlot2.kt:169)\n",
      "Line_101_jupyter.<init>(Line_101.jupyter.kts:3)\n",
      "sun.reflect.NativeConstructorAccessorImpl.newInstance0(Native Method)\n",
      "sun.reflect.NativeConstructorAccessorImpl.newInstance(NativeConstructorAccessorImpl.java:62)\n",
      "sun.reflect.DelegatingConstructorAccessorImpl.newInstance(DelegatingConstructorAccessorImpl.java:45)\n",
      "java.lang.reflect.Constructor.newInstance(Constructor.java:423)\n",
      "kotlin.script.experimental.jvm.BasicJvmScriptEvaluator.evalWithConfigAndOtherScriptsResults(BasicJvmScriptEvaluator.kt:96)\n",
      "kotlin.script.experimental.jvm.BasicJvmScriptEvaluator.invoke$suspendImpl(BasicJvmScriptEvaluator.kt:41)\n",
      "kotlin.script.experimental.jvm.BasicJvmScriptEvaluator.invoke(BasicJvmScriptEvaluator.kt)\n",
      "kotlin.script.experimental.jvm.BasicJvmReplEvaluator.eval(BasicJvmReplEvaluator.kt:51)\n",
      "org.jetbrains.kotlin.jupyter.ReplForJupyterImpl$doEval$resultWithDiagnostics$1.invokeSuspend(repl.kt:604)\n",
      "kotlin.coroutines.jvm.internal.BaseContinuationImpl.resumeWith(ContinuationImpl.kt:33)\n",
      "kotlinx.coroutines.DispatchedTask.run(DispatchedTask.kt:56)\n",
      "kotlinx.coroutines.EventLoopImplBase.processNextEvent(EventLoop.common.kt:274)\n",
      "kotlinx.coroutines.BlockingCoroutine.joinBlocking(Builders.kt:84)\n",
      "kotlinx.coroutines.BuildersKt__BuildersKt.runBlocking(Builders.kt:59)\n",
      "kotlinx.coroutines.BuildersKt.runBlocking(Unknown Source)\n",
      "kotlinx.coroutines.BuildersKt__BuildersKt.runBlocking$default(Builders.kt:38)\n",
      "kotlinx.coroutines.BuildersKt.runBlocking$default(Unknown Source)\n",
      "org.jetbrains.kotlin.jupyter.ReplForJupyterImpl.doEval(repl.kt:604)\n",
      "org.jetbrains.kotlin.jupyter.ReplForJupyterImpl.eval(repl.kt:434)\n",
      "org.jetbrains.kotlin.jupyter.ProtocolKt$shellMessagesHandler$res$1.invoke(protocol.kt:248)\n",
      "org.jetbrains.kotlin.jupyter.ProtocolKt$shellMessagesHandler$res$1.invoke(protocol.kt)\n",
      "org.jetbrains.kotlin.jupyter.ProtocolKt.evalWithIO(protocol.kt:400)\n",
      "org.jetbrains.kotlin.jupyter.ProtocolKt.shellMessagesHandler(protocol.kt:247)\n",
      "org.jetbrains.kotlin.jupyter.IkotlinKt.kernelServer(ikotlin.kt:127)\n",
      "org.jetbrains.kotlin.jupyter.IkotlinKt.kernelServer$default(ikotlin.kt:95)\n",
      "org.jetbrains.kotlin.jupyter.IkotlinKt.main(ikotlin.kt:72)\n"
     ]
    }
   ],
   "source": [
    "// try to visualize it with kravis first\n",
    "\n",
    "requestsDf.plot(x=\"timestamp\").geomHistogram().show()\n",
    "\n",
    "// also see https://github.com/holgerbrandl/data_science_with_kotlin/blob/master/report_rendering/nyc/WildRideThroughNYC.ipynb\n"
   ]
  },
  {
   "cell_type": "code",
   "execution_count": null,
   "metadata": {},
   "outputs": [],
   "source": []
  },
  {
   "cell_type": "code",
   "execution_count": null,
   "metadata": {},
   "outputs": [],
   "source": [
    "val rand = java.util.Random()\n",
    "val data = mapOf<String, Any>(\n",
    "    \"rating\" to List(200) { rand.nextGaussian() } + List(200) { rand.nextGaussian() * 1.5 + 1.5 },\n",
    "    \"cond\" to List(200) { \"A\" } + List(200) { \"B\" }\n",
    ")\n",
    "\n",
    "var p = lets_plot(data)\n",
    "p += geom_density(color=\"dark_green\", alpha=.3) {x=\"rating\"; fill=\"cond\"}\n",
    "p + ggsize(500, 250) +  "
   ]
  }
 ],
 "metadata": {
  "kernelspec": {
   "display_name": "Kotlin",
   "language": "kotlin",
   "name": "kotlin"
  },
  "language_info": {
   "codemirror_mode": "text/x-kotlin",
   "file_extension": ".kt",
   "mimetype": "text/x-kotlin",
   "name": "kotlin",
   "pygments_lexer": "kotlin",
   "version": "1.4.30-dev-3354"
  }
 },
 "nbformat": 4,
 "nbformat_minor": 4
}