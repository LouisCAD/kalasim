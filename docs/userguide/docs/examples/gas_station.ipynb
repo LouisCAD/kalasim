{
 "cells": [
  {
   "cell_type": "markdown",
   "source": [
    "This example models a gas station and cars that arrive at the station for refueling.\n",
    "\n",
    "Covers:\n",
    "\n",
    "* [Depletable Resources](../resource.md#)\n",
    "* Process Interaction, in particular [waiting](../component.md#wait) for other processes\n",
    "\n",
    "The gas station has a limited number of fuel pumps, and a fuel tank that is shared between the fuel pumps. The gas station is thus modeled as `Resource`. The shared fuel tank is modeled with a `DepletableResource`.\n",
    "\n",
    "Vehicles arriving at the gas station first request a fuel pump from the station. Once they acquire one, they try to take the desired amount of fuel from the fuel pump. They leave when they are done.\n",
    "\n",
    "The gas stations fuel level is regularly monitored by gas station control. When the level drops below a certain threshold, a tank truck is called to refuel the gas station itself."
   ],
   "metadata": {
    "collapsed": false,
    "pycharm": {
     "name": "#%% md\n"
    }
   }
  },
  {
   "cell_type": "code",
   "execution_count": 43,
   "metadata": {
    "collapsed": true
   },
   "outputs": [],
   "source": [
    "//@file:Repository(\"*mavenLocal\")\n",
    "//@file:DependsOn(\"com.github.holgerbrandl:kalasim:0.7-SNAPSHOT\")\n",
    "\n",
    "@file:DependsOn(\"com.github.holgerbrandl:kalasim:0.7.90\")\n",
    "@file:DependsOn(\"com.github.holgerbrandl:kravis:0.8.1\")"
   ]
  },
  {
   "cell_type": "code",
   "execution_count": 44,
   "outputs": [],
   "source": [
    "import org.kalasim.*\n",
    "\n",
    "import kravis.geomBar\n",
    "import kravis.geomCol\n",
    "import kravis.plot\n",
    "import org.apache.commons.math3.distribution.LogNormalDistribution\n",
    "\n",
    "import java.lang.Double.min\n",
    "import kotlin.random.Random"
   ],
   "metadata": {
    "collapsed": false,
    "pycharm": {
     "name": "#%%\n"
    }
   }
  },
  {
   "cell_type": "code",
   "execution_count": 45,
   "outputs": [],
   "source": [
    "//LogNormalDistribution(3.5, 0.88).let{ dist ->\n",
    "//    repeat(100){ println(dist.sample())}\n",
    "//}\n",
    "\n",
    "//TODO set random seed, blocked by https://github.com/Kotlin/kotlin-jupyter/issues/345\n"
   ],
   "metadata": {
    "collapsed": false,
    "pycharm": {
     "name": "#%%\n"
    }
   }
  },
  {
   "cell_type": "code",
   "execution_count": 86,
   "outputs": [],
   "source": [
    "class SquidGame(\n",
    "    val numSteps: Int = 18,\n",
    "    val numPlayers: Int = 16,\n",
    "    val maxDuration: Int = 12 * 60\n",
    ") : Environment(randomSeed =Random.nextInt()) {\n",
    "\n",
    "    // randomization\n",
    "    val stepTime = LogNormalDistribution(rg, 3.0, 0.88)\n",
    "//    val stepTime = uniform(10,30)\n",
    "\n",
    "    val decision = enumerated(true, false)\n",
    "\n",
    "    // state\n",
    "    var stepsLeft = numSteps\n",
    "    var survivors= mutableListOf<Int>()\n",
    "\n",
    "    val numTrials: Int\n",
    "        get() = numSteps - survivors.size\n",
    "\n",
    "    val numSurvivors : Int\n",
    "       get() = survivors.size\n",
    "\n",
    "    fun playerSurvived(playerNo: Int) = survivors.contains(playerNo)\n",
    "\n",
    "    init {\n",
    "        object : Component() {\n",
    "            override fun process() = sequence {\n",
    "               queue@\n",
    "               for(player in 1..numPlayers){\n",
    "                    hold(min(stepTime(), 100.0)) // cap time at 100sec\n",
    "\n",
    "                    while(stepsLeft-- > 0){\n",
    "                        if(decision()) continue@queue\n",
    "                        hold(min(stepTime(), 100.0)) // cap time at 100sec\n",
    "                    }\n",
    "\n",
    "                    if(now > maxDuration) break\n",
    "\n",
    "                    survivors.add(player)\n",
    "                }\n",
    "            }\n",
    "        }\n",
    "    }\n",
    "}"
   ],
   "metadata": {
    "collapsed": false,
    "pycharm": {
     "name": "#%%\n"
    }
   }
  },
  {
   "cell_type": "markdown",
   "source": [
    "\n",
    "Here,  we use both lazy injection with `inject<T>()` and instance retrieval with `get<T>()`. For details see [koin reference](https://doc.insert-koin.io/#/koin-core/injection-parameters)\n",
    "\n",
    "The example is a true classic and was adopted from [salabim](https://github.com/salabim/salabim/blob/master/sample%20models/Gas%20station.py)'s and [SimPy](https://simpy.readthedocs.io/en/2.3.1/examples/gas_station_refuel.html)'s gas stations.\n"
   ],
   "metadata": {
    "collapsed": false,
    "pycharm": {
     "name": "#%% md\n"
    }
   }
  },
  {
   "cell_type": "markdown",
   "source": [
    "## Conclusion\n",
    "\n",
    "In this example we have explored how a [depletable resource](../resource.md#depletable-resources) can be consumed by multipler clients."
   ],
   "metadata": {
    "collapsed": false,
    "pycharm": {
     "name": "#%% md\n"
    }
   }
  }
 ],
 "metadata": {
  "kernelspec": {
   "display_name": "Kotlin",
   "language": "kotlin",
   "name": "kotlin"
  },
  "language_info": {
   "name": "kotlin",
   "version": "1.6.0-dev-3567",
   "mimetype": "text/x-kotlin",
   "file_extension": ".kt",
   "pygments_lexer": "kotlin",
   "codemirror_mode": "kotlin",
   "nbconvert_exporter": ""
  },
  "pycharm": {
   "revision": "efb328ba-b7d6-43f5-a876-f89bab4a0aee"
  }
 },
 "nbformat": 4,
 "nbformat_minor": 0
}